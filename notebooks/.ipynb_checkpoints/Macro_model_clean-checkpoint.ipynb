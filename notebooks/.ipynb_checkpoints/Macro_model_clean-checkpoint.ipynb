{
 "cells": [
  {
   "cell_type": "markdown",
   "metadata": {},
   "source": [
    "# Data Preparation"
   ]
  },
  {
   "cell_type": "markdown",
   "metadata": {},
   "source": [
    "Import libraries and data"
   ]
  },
  {
   "cell_type": "code",
   "execution_count": 15,
   "metadata": {
    "collapsed": true
   },
   "outputs": [],
   "source": [
    "import pandas as pd\n",
    "import numpy as np\n",
    "from sklearn.preprocessing import label_binarize\n",
    "from datetime import datetime as dt\n",
    "import matplotlib.pyplot as plt\n",
    "\n",
    "from sklearn.decomposition import PCA\n",
    "%matplotlib inline"
   ]
  },
  {
   "cell_type": "code",
   "execution_count": 2,
   "metadata": {
    "collapsed": false
   },
   "outputs": [],
   "source": [
    "df_macro = pd.read_csv('~/Desktop/sberbank/macro.csv')\n",
    "df_train = pd.read_csv('~/Desktop/sberbank/train.csv')\n",
    "df_test = pd.read_csv('~/Desktop/sberbank/test.csv')"
   ]
  },
  {
   "cell_type": "markdown",
   "metadata": {},
   "source": [
    "Establish training set and testset periods"
   ]
  },
  {
   "cell_type": "code",
   "execution_count": 3,
   "metadata": {
    "collapsed": true
   },
   "outputs": [],
   "source": [
    "train_times = (min(pd.to_datetime(df_train['timestamp'])), max(pd.to_datetime(df_train['timestamp'])) )\n",
    "test_times = (min(pd.to_datetime(df_test['timestamp'])), max(pd.to_datetime(df_test['timestamp'])) )"
   ]
  },
  {
   "cell_type": "code",
   "execution_count": 4,
   "metadata": {
    "collapsed": false
   },
   "outputs": [
    {
     "name": "stdout",
     "output_type": "stream",
     "text": [
      "(Timestamp('2011-08-20 00:00:00'), Timestamp('2015-06-30 00:00:00')) (Timestamp('2015-07-01 00:00:00'), Timestamp('2016-05-30 00:00:00'))\n"
     ]
    }
   ],
   "source": [
    "print train_times, test_times"
   ]
  },
  {
   "cell_type": "markdown",
   "metadata": {},
   "source": [
    "## Preprocess Macro Data"
   ]
  },
  {
   "cell_type": "code",
   "execution_count": 5,
   "metadata": {
    "collapsed": true
   },
   "outputs": [],
   "source": [
    "def extract_date_variables(input_data, date_in_index=False):\n",
    "    \n",
    "    '''This function extracts data variables from a series or index of a series. Returns\n",
    "        a DataFrame with extracted variables'''\n",
    "\n",
    "    if date_in_index:\n",
    "        \n",
    "        input_data['weeknr'] = map(lambda x: str(x), input_data.index.week)\n",
    "        input_data['year'] = map(lambda x: str(x), input_data.index.year)\n",
    "        input_data['month'] = map(lambda x: str(x), input_data.index.month)\n",
    "\n",
    "        input_data['week_year'] = input_data['weeknr'] + '_' + input_data['year']\n",
    "        input_data['month_year'] = input_data['month'] + '_' + input_data['year']\n",
    "\n",
    "        return input_data\n",
    "    \n",
    "    else:\n",
    "        output_data = input_data.to_frame(name='timestamp')\n",
    "        \n",
    "        output_data['weeknr'] = map(lambda x: str(x.week), output_data['timestamp'])\n",
    "        output_data['year'] = map(lambda x: str(x.year), output_data['timestamp'])\n",
    "        output_data['month'] = map(lambda x: str(x.month), output_data['timestamp'])\n",
    "\n",
    "        output_data['week_year']  = output_data['weeknr'] + '_' + output_data['year']\n",
    "        output_data['month_year'] = output_data['month'] + '_' + output_data['year']\n",
    "\n",
    "        return output_data"
   ]
  },
  {
   "cell_type": "markdown",
   "metadata": {},
   "source": [
    "Derive monthly median apartment prices"
   ]
  },
  {
   "cell_type": "code",
   "execution_count": 6,
   "metadata": {
    "collapsed": false
   },
   "outputs": [],
   "source": [
    "price_data = df_train[['timestamp','price_doc']].copy()\n",
    "price_data['timestamp'] = pd.to_datetime(price_data['timestamp'] )\n",
    "price_data = df_train[['timestamp', 'price_doc']].copy()\n",
    "prices = price_data.groupby(price_data['timestamp']).median()\n",
    "\n",
    "prices.index = map(lambda x: pd.to_datetime(x), prices.index)\n",
    "prices_timevar = extract_date_variables(prices, True)\n",
    "\n",
    "med_price_monthly = prices_timevar.groupby('month_year', as_index=False, sort = False).median()\n",
    "\n",
    "y_train = pd.Series(med_price_monthly.price_doc.values, index=med_price_monthly.month_year.values).to_frame(name='price_doc')"
   ]
  },
  {
   "cell_type": "markdown",
   "metadata": {},
   "source": [
    "Preprocess the macro trainset"
   ]
  },
  {
   "cell_type": "code",
   "execution_count": 68,
   "metadata": {
    "collapsed": false
   },
   "outputs": [],
   "source": [
    "macroTimestamp = pd.Series(map(pd.Timestamp, df_macro.timestamp))\n",
    "df_macro['timestamp'] = macroTimestamp\n",
    "\n",
    "# add time data\n",
    "res=df_macro.merge(extract_date_variables(macroTimestamp), on='timestamp')\n",
    "res=res.sort_values(by='timestamp')\n",
    "\n",
    "# fill NA\n",
    "res.fillna(method='ffill', inplace=True)\n",
    "res.fillna(method='bfill', inplace=True)\n",
    "\n",
    "\n",
    "# aggregate\n",
    "res = res.groupby('month_year', sort=False).median()\n",
    "\n",
    "# normalize\n",
    "res = res.apply(lambda x: (x-np.mean(x))/np.std(x), axis=1 )\n",
    "\n",
    "# reduce dimensions\n",
    "our_pca = PCA(n_components=1, whiten=True)\n",
    "princomps = our_pca.fit(res.T) \n",
    "X_pca = pd.DataFrame(princomps.components_.T, index=res.index)\n",
    "\n",
    "#plt.plot(princomps.explained_variance_ratio_)\n",
    "\n",
    "\n",
    "# split train and test according to dates\n",
    "#df_macro_train = res[(res.timestamp >= train_times[0]) & (res.timestamp <= train_times[1])]\n",
    "#df_macro_test = res[(res.timestamp >= test_times[0]) & (res.timestamp <= test_times[1])]\n",
    "\n",
    "#macro_dfs = [df_macro_train, df_macro_test]\n",
    "\n",
    "#df_macrbo_train, df_macro_test = map(lambda x: x.groupby('month_year').median(), macro_dfs)"
   ]
  },
  {
   "cell_type": "markdown",
   "metadata": {},
   "source": [
    "## Variable transformations and dimension reduction"
   ]
  },
  {
   "cell_type": "markdown",
   "metadata": {},
   "source": [
    "Standardize features"
   ]
  },
  {
   "cell_type": "code",
   "execution_count": 9,
   "metadata": {
    "collapsed": false
   },
   "outputs": [],
   "source": [
    "df_macro_train = df_macro_train.apply(lambda x: (x-np.mean(x))/np.std(x), axis=1 )"
   ]
  },
  {
   "cell_type": "markdown",
   "metadata": {},
   "source": [
    "PCA"
   ]
  },
  {
   "cell_type": "code",
   "execution_count": 118,
   "metadata": {
    "collapsed": false
   },
   "outputs": [
    {
     "ename": "ValueError",
     "evalue": "labels ['price_doc'] not contained in axis",
     "output_type": "error",
     "traceback": [
      "\u001b[0;31m---------------------------------------------------------------------------\u001b[0m",
      "\u001b[0;31mValueError\u001b[0m                                Traceback (most recent call last)",
      "\u001b[0;32m<ipython-input-118-cf89b91a0ff9>\u001b[0m in \u001b[0;36m<module>\u001b[0;34m()\u001b[0m\n\u001b[1;32m      3\u001b[0m \u001b[0mour_pca\u001b[0m \u001b[0;34m=\u001b[0m \u001b[0mPCA\u001b[0m\u001b[0;34m(\u001b[0m\u001b[0mn_components\u001b[0m\u001b[0;34m=\u001b[0m\u001b[0;36m2\u001b[0m\u001b[0;34m)\u001b[0m\u001b[0;34m\u001b[0m\u001b[0m\n\u001b[1;32m      4\u001b[0m \u001b[0;34m\u001b[0m\u001b[0m\n\u001b[0;32m----> 5\u001b[0;31m \u001b[0mprincomps\u001b[0m \u001b[0;34m=\u001b[0m \u001b[0mour_pca\u001b[0m\u001b[0;34m.\u001b[0m\u001b[0mfit\u001b[0m\u001b[0;34m(\u001b[0m\u001b[0mdf_macro_train\u001b[0m\u001b[0;34m.\u001b[0m\u001b[0mdrop\u001b[0m\u001b[0;34m(\u001b[0m\u001b[0;34m'price_doc'\u001b[0m\u001b[0;34m)\u001b[0m\u001b[0;34m)\u001b[0m\u001b[0;34m\u001b[0m\u001b[0m\n\u001b[0m",
      "\u001b[0;32m/home/roman/anaconda2/envs/python_cursus/lib/python2.7/site-packages/pandas/core/generic.pyc\u001b[0m in \u001b[0;36mdrop\u001b[0;34m(self, labels, axis, level, inplace, errors)\u001b[0m\n\u001b[1;32m   1905\u001b[0m                 \u001b[0mnew_axis\u001b[0m \u001b[0;34m=\u001b[0m \u001b[0maxis\u001b[0m\u001b[0;34m.\u001b[0m\u001b[0mdrop\u001b[0m\u001b[0;34m(\u001b[0m\u001b[0mlabels\u001b[0m\u001b[0;34m,\u001b[0m \u001b[0mlevel\u001b[0m\u001b[0;34m=\u001b[0m\u001b[0mlevel\u001b[0m\u001b[0;34m,\u001b[0m \u001b[0merrors\u001b[0m\u001b[0;34m=\u001b[0m\u001b[0merrors\u001b[0m\u001b[0;34m)\u001b[0m\u001b[0;34m\u001b[0m\u001b[0m\n\u001b[1;32m   1906\u001b[0m             \u001b[0;32melse\u001b[0m\u001b[0;34m:\u001b[0m\u001b[0;34m\u001b[0m\u001b[0m\n\u001b[0;32m-> 1907\u001b[0;31m                 \u001b[0mnew_axis\u001b[0m \u001b[0;34m=\u001b[0m \u001b[0maxis\u001b[0m\u001b[0;34m.\u001b[0m\u001b[0mdrop\u001b[0m\u001b[0;34m(\u001b[0m\u001b[0mlabels\u001b[0m\u001b[0;34m,\u001b[0m \u001b[0merrors\u001b[0m\u001b[0;34m=\u001b[0m\u001b[0merrors\u001b[0m\u001b[0;34m)\u001b[0m\u001b[0;34m\u001b[0m\u001b[0m\n\u001b[0m\u001b[1;32m   1908\u001b[0m             \u001b[0mdropped\u001b[0m \u001b[0;34m=\u001b[0m \u001b[0mself\u001b[0m\u001b[0;34m.\u001b[0m\u001b[0mreindex\u001b[0m\u001b[0;34m(\u001b[0m\u001b[0;34m**\u001b[0m\u001b[0;34m{\u001b[0m\u001b[0maxis_name\u001b[0m\u001b[0;34m:\u001b[0m \u001b[0mnew_axis\u001b[0m\u001b[0;34m}\u001b[0m\u001b[0;34m)\u001b[0m\u001b[0;34m\u001b[0m\u001b[0m\n\u001b[1;32m   1909\u001b[0m             \u001b[0;32mtry\u001b[0m\u001b[0;34m:\u001b[0m\u001b[0;34m\u001b[0m\u001b[0m\n",
      "\u001b[0;32m/home/roman/anaconda2/envs/python_cursus/lib/python2.7/site-packages/pandas/indexes/base.pyc\u001b[0m in \u001b[0;36mdrop\u001b[0;34m(self, labels, errors)\u001b[0m\n\u001b[1;32m   3260\u001b[0m             \u001b[0;32mif\u001b[0m \u001b[0merrors\u001b[0m \u001b[0;34m!=\u001b[0m \u001b[0;34m'ignore'\u001b[0m\u001b[0;34m:\u001b[0m\u001b[0;34m\u001b[0m\u001b[0m\n\u001b[1;32m   3261\u001b[0m                 raise ValueError('labels %s not contained in axis' %\n\u001b[0;32m-> 3262\u001b[0;31m                                  labels[mask])\n\u001b[0m\u001b[1;32m   3263\u001b[0m             \u001b[0mindexer\u001b[0m \u001b[0;34m=\u001b[0m \u001b[0mindexer\u001b[0m\u001b[0;34m[\u001b[0m\u001b[0;34m~\u001b[0m\u001b[0mmask\u001b[0m\u001b[0;34m]\u001b[0m\u001b[0;34m\u001b[0m\u001b[0m\n\u001b[1;32m   3264\u001b[0m         \u001b[0;32mreturn\u001b[0m \u001b[0mself\u001b[0m\u001b[0;34m.\u001b[0m\u001b[0mdelete\u001b[0m\u001b[0;34m(\u001b[0m\u001b[0mindexer\u001b[0m\u001b[0;34m)\u001b[0m\u001b[0;34m\u001b[0m\u001b[0m\n",
      "\u001b[0;31mValueError\u001b[0m: labels ['price_doc'] not contained in axis"
     ]
    }
   ],
   "source": [
    "from sklearn.decomposition import PCA\n",
    "\n",
    "our_pca = PCA(n_components=2)\n",
    "\n",
    "princomps = our_pca.fit(df_macro_train)"
   ]
  },
  {
   "cell_type": "code",
   "execution_count": 109,
   "metadata": {
    "collapsed": false
   },
   "outputs": [
    {
     "data": {
      "text/plain": [
       "[<matplotlib.lines.Line2D at 0x7eff4e5d4810>]"
      ]
     },
     "execution_count": 109,
     "metadata": {},
     "output_type": "execute_result"
    },
    {
     "data": {
      "image/png": "[encoded data removed]",
      "text/plain": [
       "<matplotlib.figure.Figure at 0x7eff4e524650>"
      ]
     },
     "metadata": {},
     "output_type": "display_data"
    }
   ],
   "source": [
    "plt.plot(princomps.explained_variance_)"
   ]
  },
  {
   "cell_type": "code",
   "execution_count": 113,
   "metadata": {
    "collapsed": true
   },
   "outputs": [],
   "source": [
    "X_pca = princomps.components_.T"
   ]
  },
  {
   "cell_type": "code",
   "execution_count": 114,
   "metadata": {
    "collapsed": false
   },
   "outputs": [
    {
     "data": {
      "text/plain": [
       "(96, 2)"
      ]
     },
     "execution_count": 114,
     "metadata": {},
     "output_type": "execute_result"
    }
   ],
   "source": [
    "X_pca.shape"
   ]
  },
  {
   "cell_type": "markdown",
   "metadata": {},
   "source": [
    "# Linear Regression with PCA"
   ]
  },
  {
   "cell_type": "code",
   "execution_count": 115,
   "metadata": {
    "collapsed": true
   },
   "outputs": [],
   "source": [
    "macro_data = df_macro_train.merge(y_train, left_index=True, right_index=True)\n",
    "y = macro_data['price_doc']\n",
    "X = macro_data.drop('price_doc', axis=1)"
   ]
  },
  {
   "cell_type": "code",
   "execution_count": 116,
   "metadata": {
    "collapsed": true
   },
   "outputs": [],
   "source": [
    "from sklearn.linear_model import LinearRegression"
   ]
  },
  {
   "cell_type": "code",
   "execution_count": 117,
   "metadata": {
    "collapsed": true
   },
   "outputs": [],
   "source": [
    "def cv_macro_linreg():\n",
    "\n",
    "    tscv = TimeSeriesSplit(n_splits=n_splits)\n",
    "    reg_model = LinearRegression()\n",
    "\n",
    "    rmse = []\n",
    "    dims = []\n",
    "    for train_index, test_index in tscv.split(macro_data):\n",
    "\n",
    "        reg_model.fit(X.iloc[train_index,:], y.iloc[train_index])\n",
    "        pred = reg_model.predict(X.iloc[test_index,:])\n",
    "\n",
    "        rmse.append(np.sqrt(np.mean( (pred-y.iloc[test_index])**2)))\n",
    "        dims.append((len(y.iloc[train_index].values), len(y.iloc[test_index])))\n",
    "    \n",
    "    return [np.mean(rmse), pred, y.iloc[test_index]]"
   ]
  },
  {
   "cell_type": "code",
   "execution_count": null,
   "metadata": {
    "collapsed": true
   },
   "outputs": [],
   "source": []
  },
  {
   "cell_type": "markdown",
   "metadata": {},
   "source": [
    "# Macroeconomic Model"
   ]
  },
  {
   "cell_type": "code",
   "execution_count": 51,
   "metadata": {
    "collapsed": false
   },
   "outputs": [],
   "source": [
    "macro_data = df_macro_train.merge(y_train, left_index=True, right_index=True)\n",
    "y = macro_data['price_doc']\n",
    "X = macro_data.drop('price_doc', axis=1)"
   ]
  },
  {
   "cell_type": "markdown",
   "metadata": {},
   "source": [
    "See if model works"
   ]
  },
  {
   "cell_type": "code",
   "execution_count": 54,
   "metadata": {
    "collapsed": true
   },
   "outputs": [],
   "source": [
    "from sklearn.model_selection import TimeSeriesSplit\n",
    "from sklearn.linear_model import ElasticNet"
   ]
  },
  {
   "cell_type": "code",
   "execution_count": 81,
   "metadata": {
    "collapsed": false
   },
   "outputs": [
    {
     "name": "stdout",
     "output_type": "stream",
     "text": [
      "70337.8613088\n"
     ]
    },
    {
     "data": {
      "image/png": "[encoded data removed]",
      "text/plain": [
       "<matplotlib.figure.Figure at 0x7eff4e415050>"
      ]
     },
     "metadata": {},
     "output_type": "display_data"
    }
   ],
   "source": [
    "enet_model = ElasticNet(max_iter=5000, alpha=0.21, l1_ratio=0.9)\n",
    "enet_model.fit(X, y)\n",
    "\n",
    "predictions = enet_model.predict(X)\n",
    "\n",
    "plt.plot(y.values, 'b-', predictions, 'r--')\n",
    "\n",
    "print np.sqrt(np.mean( (predictions-y)**2))"
   ]
  },
  {
   "cell_type": "markdown",
   "metadata": {},
   "source": [
    "Time-Series CV, model tuning"
   ]
  },
  {
   "cell_type": "code",
   "execution_count": 76,
   "metadata": {
    "collapsed": false
   },
   "outputs": [
    {
     "name": "stdout",
     "output_type": "stream",
     "text": [
      "[ 0.01  0.06  0.11  0.16  0.21  0.26  0.31  0.36  0.41  0.46  0.51  0.56\n",
      "  0.61  0.66  0.71  0.76  0.81  0.86  0.91  0.96] [ 0.   0.1  0.2  0.3  0.4  0.5  0.6  0.7  0.8  0.9]\n"
     ]
    }
   ],
   "source": [
    "alphas = np.arange(0.01, 1, 0.05)\n",
    "l1_rats = np.arange(0, 1, 0.1)\n",
    "print alphas, l1_rats"
   ]
  },
  {
   "cell_type": "code",
   "execution_count": 84,
   "metadata": {
    "collapsed": false
   },
   "outputs": [],
   "source": [
    "def cv_macro_enet(alpha, l1_ratio, n_splits):\n",
    "\n",
    "    tscv = TimeSeriesSplit(n_splits=n_splits)\n",
    "    enet_model = ElasticNet(max_iter=5000, alpha=alpha, l1_ratio=l1_ratio)\n",
    "\n",
    "    rmse = []\n",
    "    dims = []\n",
    "    for train_index, test_index in tscv.split(macro_data):\n",
    "\n",
    "        enet_model.fit(X.iloc[train_index,:], y.iloc[train_index])\n",
    "        pred = enet_model.predict(X.iloc[test_index,:])\n",
    "\n",
    "        rmse.append(np.sqrt(np.mean( (pred-y.iloc[test_index])**2)))\n",
    "        dims.append((len(y.iloc[train_index].values), len(y.iloc[test_index])))\n",
    "    \n",
    "    return [np.mean(rmse), pred, y.iloc[test_index]]\n",
    "    "
   ]
  },
  {
   "cell_type": "code",
   "execution_count": 78,
   "metadata": {
    "collapsed": false
   },
   "outputs": [],
   "source": [
    "cv_result = [ {'alpha': a, 'l1_rat':l, 'rmse': cv_macro_enet(a,l,10)[0]} for a in alphas for l in l1_rats ]"
   ]
  },
  {
   "cell_type": "code",
   "execution_count": 79,
   "metadata": {
    "collapsed": false
   },
   "outputs": [
    {
     "data": {
      "text/html": [
       "<div>\n",
       "<table border=\"1\" class=\"dataframe\">\n",
       "  <thead>\n",
       "    <tr style=\"text-align: right;\">\n",
       "      <th></th>\n",
       "      <th>alpha</th>\n",
       "      <th>l1_rat</th>\n",
       "      <th>rmse</th>\n",
       "    </tr>\n",
       "  </thead>\n",
       "  <tbody>\n",
       "    <tr>\n",
       "      <th>49</th>\n",
       "      <td>0.21</td>\n",
       "      <td>0.9</td>\n",
       "      <td>652212.146658</td>\n",
       "    </tr>\n",
       "    <tr>\n",
       "      <th>28</th>\n",
       "      <td>0.11</td>\n",
       "      <td>0.8</td>\n",
       "      <td>652298.066582</td>\n",
       "    </tr>\n",
       "    <tr>\n",
       "      <th>16</th>\n",
       "      <td>0.06</td>\n",
       "      <td>0.6</td>\n",
       "      <td>653099.868842</td>\n",
       "    </tr>\n",
       "    <tr>\n",
       "      <th>17</th>\n",
       "      <td>0.06</td>\n",
       "      <td>0.7</td>\n",
       "      <td>653430.657428</td>\n",
       "    </tr>\n",
       "    <tr>\n",
       "      <th>59</th>\n",
       "      <td>0.26</td>\n",
       "      <td>0.9</td>\n",
       "      <td>654599.813954</td>\n",
       "    </tr>\n",
       "    <tr>\n",
       "      <th>39</th>\n",
       "      <td>0.16</td>\n",
       "      <td>0.9</td>\n",
       "      <td>655914.457510</td>\n",
       "    </tr>\n",
       "    <tr>\n",
       "      <th>15</th>\n",
       "      <td>0.06</td>\n",
       "      <td>0.5</td>\n",
       "      <td>658952.652602</td>\n",
       "    </tr>\n",
       "    <tr>\n",
       "      <th>69</th>\n",
       "      <td>0.31</td>\n",
       "      <td>0.9</td>\n",
       "      <td>660300.689934</td>\n",
       "    </tr>\n",
       "    <tr>\n",
       "      <th>38</th>\n",
       "      <td>0.16</td>\n",
       "      <td>0.8</td>\n",
       "      <td>661651.770777</td>\n",
       "    </tr>\n",
       "    <tr>\n",
       "      <th>27</th>\n",
       "      <td>0.11</td>\n",
       "      <td>0.7</td>\n",
       "      <td>663066.775333</td>\n",
       "    </tr>\n",
       "    <tr>\n",
       "      <th>18</th>\n",
       "      <td>0.06</td>\n",
       "      <td>0.8</td>\n",
       "      <td>666691.087958</td>\n",
       "    </tr>\n",
       "    <tr>\n",
       "      <th>14</th>\n",
       "      <td>0.06</td>\n",
       "      <td>0.4</td>\n",
       "      <td>667533.186867</td>\n",
       "    </tr>\n",
       "    <tr>\n",
       "      <th>79</th>\n",
       "      <td>0.36</td>\n",
       "      <td>0.9</td>\n",
       "      <td>667587.139559</td>\n",
       "    </tr>\n",
       "    <tr>\n",
       "      <th>29</th>\n",
       "      <td>0.11</td>\n",
       "      <td>0.9</td>\n",
       "      <td>671079.296472</td>\n",
       "    </tr>\n",
       "    <tr>\n",
       "      <th>89</th>\n",
       "      <td>0.41</td>\n",
       "      <td>0.9</td>\n",
       "      <td>675256.889006</td>\n",
       "    </tr>\n",
       "    <tr>\n",
       "      <th>0</th>\n",
       "      <td>0.01</td>\n",
       "      <td>0.0</td>\n",
       "      <td>676301.655997</td>\n",
       "    </tr>\n",
       "    <tr>\n",
       "      <th>13</th>\n",
       "      <td>0.06</td>\n",
       "      <td>0.3</td>\n",
       "      <td>676702.533983</td>\n",
       "    </tr>\n",
       "    <tr>\n",
       "      <th>48</th>\n",
       "      <td>0.21</td>\n",
       "      <td>0.8</td>\n",
       "      <td>676728.224534</td>\n",
       "    </tr>\n",
       "    <tr>\n",
       "      <th>26</th>\n",
       "      <td>0.11</td>\n",
       "      <td>0.6</td>\n",
       "      <td>679653.543227</td>\n",
       "    </tr>\n",
       "    <tr>\n",
       "      <th>99</th>\n",
       "      <td>0.46</td>\n",
       "      <td>0.9</td>\n",
       "      <td>682538.309770</td>\n",
       "    </tr>\n",
       "    <tr>\n",
       "      <th>1</th>\n",
       "      <td>0.01</td>\n",
       "      <td>0.1</td>\n",
       "      <td>682572.962600</td>\n",
       "    </tr>\n",
       "    <tr>\n",
       "      <th>12</th>\n",
       "      <td>0.06</td>\n",
       "      <td>0.2</td>\n",
       "      <td>685161.010709</td>\n",
       "    </tr>\n",
       "    <tr>\n",
       "      <th>37</th>\n",
       "      <td>0.16</td>\n",
       "      <td>0.7</td>\n",
       "      <td>685179.804399</td>\n",
       "    </tr>\n",
       "    <tr>\n",
       "      <th>109</th>\n",
       "      <td>0.51</td>\n",
       "      <td>0.9</td>\n",
       "      <td>688978.879441</td>\n",
       "    </tr>\n",
       "    <tr>\n",
       "      <th>2</th>\n",
       "      <td>0.01</td>\n",
       "      <td>0.2</td>\n",
       "      <td>690021.866770</td>\n",
       "    </tr>\n",
       "    <tr>\n",
       "      <th>58</th>\n",
       "      <td>0.26</td>\n",
       "      <td>0.8</td>\n",
       "      <td>690093.483932</td>\n",
       "    </tr>\n",
       "    <tr>\n",
       "      <th>11</th>\n",
       "      <td>0.06</td>\n",
       "      <td>0.1</td>\n",
       "      <td>692238.466103</td>\n",
       "    </tr>\n",
       "    <tr>\n",
       "      <th>25</th>\n",
       "      <td>0.11</td>\n",
       "      <td>0.5</td>\n",
       "      <td>693273.464892</td>\n",
       "    </tr>\n",
       "    <tr>\n",
       "      <th>119</th>\n",
       "      <td>0.56</td>\n",
       "      <td>0.9</td>\n",
       "      <td>694345.494247</td>\n",
       "    </tr>\n",
       "    <tr>\n",
       "      <th>10</th>\n",
       "      <td>0.06</td>\n",
       "      <td>0.0</td>\n",
       "      <td>697719.431236</td>\n",
       "    </tr>\n",
       "    <tr>\n",
       "      <th>...</th>\n",
       "      <td>...</td>\n",
       "      <td>...</td>\n",
       "      <td>...</td>\n",
       "    </tr>\n",
       "    <tr>\n",
       "      <th>184</th>\n",
       "      <td>0.91</td>\n",
       "      <td>0.4</td>\n",
       "      <td>800949.390655</td>\n",
       "    </tr>\n",
       "    <tr>\n",
       "      <th>121</th>\n",
       "      <td>0.61</td>\n",
       "      <td>0.1</td>\n",
       "      <td>801447.560712</td>\n",
       "    </tr>\n",
       "    <tr>\n",
       "      <th>110</th>\n",
       "      <td>0.56</td>\n",
       "      <td>0.0</td>\n",
       "      <td>803290.943391</td>\n",
       "    </tr>\n",
       "    <tr>\n",
       "      <th>163</th>\n",
       "      <td>0.81</td>\n",
       "      <td>0.3</td>\n",
       "      <td>804468.368226</td>\n",
       "    </tr>\n",
       "    <tr>\n",
       "      <th>142</th>\n",
       "      <td>0.71</td>\n",
       "      <td>0.2</td>\n",
       "      <td>804633.989662</td>\n",
       "    </tr>\n",
       "    <tr>\n",
       "      <th>194</th>\n",
       "      <td>0.96</td>\n",
       "      <td>0.4</td>\n",
       "      <td>805977.689920</td>\n",
       "    </tr>\n",
       "    <tr>\n",
       "      <th>131</th>\n",
       "      <td>0.66</td>\n",
       "      <td>0.1</td>\n",
       "      <td>808976.776763</td>\n",
       "    </tr>\n",
       "    <tr>\n",
       "      <th>173</th>\n",
       "      <td>0.86</td>\n",
       "      <td>0.3</td>\n",
       "      <td>810311.558974</td>\n",
       "    </tr>\n",
       "    <tr>\n",
       "      <th>152</th>\n",
       "      <td>0.76</td>\n",
       "      <td>0.2</td>\n",
       "      <td>811305.442182</td>\n",
       "    </tr>\n",
       "    <tr>\n",
       "      <th>120</th>\n",
       "      <td>0.61</td>\n",
       "      <td>0.0</td>\n",
       "      <td>811633.850754</td>\n",
       "    </tr>\n",
       "    <tr>\n",
       "      <th>183</th>\n",
       "      <td>0.91</td>\n",
       "      <td>0.3</td>\n",
       "      <td>816084.427744</td>\n",
       "    </tr>\n",
       "    <tr>\n",
       "      <th>141</th>\n",
       "      <td>0.71</td>\n",
       "      <td>0.1</td>\n",
       "      <td>816407.327170</td>\n",
       "    </tr>\n",
       "    <tr>\n",
       "      <th>162</th>\n",
       "      <td>0.81</td>\n",
       "      <td>0.2</td>\n",
       "      <td>817874.635571</td>\n",
       "    </tr>\n",
       "    <tr>\n",
       "      <th>130</th>\n",
       "      <td>0.66</td>\n",
       "      <td>0.0</td>\n",
       "      <td>819812.114882</td>\n",
       "    </tr>\n",
       "    <tr>\n",
       "      <th>193</th>\n",
       "      <td>0.96</td>\n",
       "      <td>0.3</td>\n",
       "      <td>821739.286827</td>\n",
       "    </tr>\n",
       "    <tr>\n",
       "      <th>151</th>\n",
       "      <td>0.76</td>\n",
       "      <td>0.1</td>\n",
       "      <td>823643.052808</td>\n",
       "    </tr>\n",
       "    <tr>\n",
       "      <th>172</th>\n",
       "      <td>0.86</td>\n",
       "      <td>0.2</td>\n",
       "      <td>824274.899310</td>\n",
       "    </tr>\n",
       "    <tr>\n",
       "      <th>140</th>\n",
       "      <td>0.71</td>\n",
       "      <td>0.0</td>\n",
       "      <td>827706.314504</td>\n",
       "    </tr>\n",
       "    <tr>\n",
       "      <th>182</th>\n",
       "      <td>0.91</td>\n",
       "      <td>0.2</td>\n",
       "      <td>830464.424406</td>\n",
       "    </tr>\n",
       "    <tr>\n",
       "      <th>161</th>\n",
       "      <td>0.81</td>\n",
       "      <td>0.1</td>\n",
       "      <td>830615.742301</td>\n",
       "    </tr>\n",
       "    <tr>\n",
       "      <th>150</th>\n",
       "      <td>0.76</td>\n",
       "      <td>0.0</td>\n",
       "      <td>835245.345440</td>\n",
       "    </tr>\n",
       "    <tr>\n",
       "      <th>192</th>\n",
       "      <td>0.96</td>\n",
       "      <td>0.2</td>\n",
       "      <td>836416.702891</td>\n",
       "    </tr>\n",
       "    <tr>\n",
       "      <th>171</th>\n",
       "      <td>0.86</td>\n",
       "      <td>0.1</td>\n",
       "      <td>837288.322338</td>\n",
       "    </tr>\n",
       "    <tr>\n",
       "      <th>9</th>\n",
       "      <td>0.01</td>\n",
       "      <td>0.9</td>\n",
       "      <td>839812.721034</td>\n",
       "    </tr>\n",
       "    <tr>\n",
       "      <th>160</th>\n",
       "      <td>0.81</td>\n",
       "      <td>0.0</td>\n",
       "      <td>842401.885325</td>\n",
       "    </tr>\n",
       "    <tr>\n",
       "      <th>181</th>\n",
       "      <td>0.91</td>\n",
       "      <td>0.1</td>\n",
       "      <td>843648.807632</td>\n",
       "    </tr>\n",
       "    <tr>\n",
       "      <th>170</th>\n",
       "      <td>0.86</td>\n",
       "      <td>0.0</td>\n",
       "      <td>849175.210957</td>\n",
       "    </tr>\n",
       "    <tr>\n",
       "      <th>191</th>\n",
       "      <td>0.96</td>\n",
       "      <td>0.1</td>\n",
       "      <td>849700.094409</td>\n",
       "    </tr>\n",
       "    <tr>\n",
       "      <th>180</th>\n",
       "      <td>0.91</td>\n",
       "      <td>0.0</td>\n",
       "      <td>855578.061950</td>\n",
       "    </tr>\n",
       "    <tr>\n",
       "      <th>190</th>\n",
       "      <td>0.96</td>\n",
       "      <td>0.0</td>\n",
       "      <td>861629.005871</td>\n",
       "    </tr>\n",
       "  </tbody>\n",
       "</table>\n",
       "<p>200 rows × 3 columns</p>\n",
       "</div>"
      ],
      "text/plain": [
       "     alpha  l1_rat           rmse\n",
       "49    0.21     0.9  652212.146658\n",
       "28    0.11     0.8  652298.066582\n",
       "16    0.06     0.6  653099.868842\n",
       "17    0.06     0.7  653430.657428\n",
       "59    0.26     0.9  654599.813954\n",
       "39    0.16     0.9  655914.457510\n",
       "15    0.06     0.5  658952.652602\n",
       "69    0.31     0.9  660300.689934\n",
       "38    0.16     0.8  661651.770777\n",
       "27    0.11     0.7  663066.775333\n",
       "18    0.06     0.8  666691.087958\n",
       "14    0.06     0.4  667533.186867\n",
       "79    0.36     0.9  667587.139559\n",
       "29    0.11     0.9  671079.296472\n",
       "89    0.41     0.9  675256.889006\n",
       "0     0.01     0.0  676301.655997\n",
       "13    0.06     0.3  676702.533983\n",
       "48    0.21     0.8  676728.224534\n",
       "26    0.11     0.6  679653.543227\n",
       "99    0.46     0.9  682538.309770\n",
       "1     0.01     0.1  682572.962600\n",
       "12    0.06     0.2  685161.010709\n",
       "37    0.16     0.7  685179.804399\n",
       "109   0.51     0.9  688978.879441\n",
       "2     0.01     0.2  690021.866770\n",
       "58    0.26     0.8  690093.483932\n",
       "11    0.06     0.1  692238.466103\n",
       "25    0.11     0.5  693273.464892\n",
       "119   0.56     0.9  694345.494247\n",
       "10    0.06     0.0  697719.431236\n",
       "..     ...     ...            ...\n",
       "184   0.91     0.4  800949.390655\n",
       "121   0.61     0.1  801447.560712\n",
       "110   0.56     0.0  803290.943391\n",
       "163   0.81     0.3  804468.368226\n",
       "142   0.71     0.2  804633.989662\n",
       "194   0.96     0.4  805977.689920\n",
       "131   0.66     0.1  808976.776763\n",
       "173   0.86     0.3  810311.558974\n",
       "152   0.76     0.2  811305.442182\n",
       "120   0.61     0.0  811633.850754\n",
       "183   0.91     0.3  816084.427744\n",
       "141   0.71     0.1  816407.327170\n",
       "162   0.81     0.2  817874.635571\n",
       "130   0.66     0.0  819812.114882\n",
       "193   0.96     0.3  821739.286827\n",
       "151   0.76     0.1  823643.052808\n",
       "172   0.86     0.2  824274.899310\n",
       "140   0.71     0.0  827706.314504\n",
       "182   0.91     0.2  830464.424406\n",
       "161   0.81     0.1  830615.742301\n",
       "150   0.76     0.0  835245.345440\n",
       "192   0.96     0.2  836416.702891\n",
       "171   0.86     0.1  837288.322338\n",
       "9     0.01     0.9  839812.721034\n",
       "160   0.81     0.0  842401.885325\n",
       "181   0.91     0.1  843648.807632\n",
       "170   0.86     0.0  849175.210957\n",
       "191   0.96     0.1  849700.094409\n",
       "180   0.91     0.0  855578.061950\n",
       "190   0.96     0.0  861629.005871\n",
       "\n",
       "[200 rows x 3 columns]"
      ]
     },
     "execution_count": 79,
     "metadata": {},
     "output_type": "execute_result"
    }
   ],
   "source": [
    "pd.DataFrame(cv_result).sort_values('rmse')"
   ]
  },
  {
   "cell_type": "markdown",
   "metadata": {},
   "source": [
    "Plot predictions vs errors on testset"
   ]
  },
  {
   "cell_type": "code",
   "execution_count": 85,
   "metadata": {
    "collapsed": true
   },
   "outputs": [],
   "source": [
    "cv_result = cv_macro_enet(0.21, 0.9, 2)"
   ]
  },
  {
   "cell_type": "code",
   "execution_count": 86,
   "metadata": {
    "collapsed": false
   },
   "outputs": [
    {
     "data": {
      "text/plain": [
       "[888822.65356387163,\n",
       " array([ 6465474.45545109,  6884170.89200838,  6775418.33840068,\n",
       "         6524736.34077773,  7293454.18299538,  6829781.36303188,\n",
       "         6738049.2349592 ,  6992072.95661145,  8827176.72449542,\n",
       "         9393877.08625685,  9556115.43651354,  8649276.55483926,\n",
       "         7815314.26126336,  7499520.91163692,  6763355.95502521]),\n",
       " 4_2014     6680000\n",
       " 5_2014     6558025\n",
       " 6_2014     6450000\n",
       " 7_2014     6500000\n",
       " 8_2014     6600000\n",
       " 9_2014     6900000\n",
       " 10_2014    6542550\n",
       " 11_2014    6524210\n",
       " 12_2014    6709300\n",
       " 1_2015     7000000\n",
       " 2_2015     7100000\n",
       " 3_2015     7250000\n",
       " 4_2015     6973789\n",
       " 5_2015     7025000\n",
       " 6_2015     7100000\n",
       " Name: price_doc, dtype: int64]"
      ]
     },
     "execution_count": 86,
     "metadata": {},
     "output_type": "execute_result"
    }
   ],
   "source": [
    "cv_result"
   ]
  },
  {
   "cell_type": "code",
   "execution_count": 87,
   "metadata": {
    "collapsed": false
   },
   "outputs": [
    {
     "data": {
      "text/plain": [
       "[<matplotlib.lines.Line2D at 0x7eff4e2a7fd0>,\n",
       " <matplotlib.lines.Line2D at 0x7eff4e579990>]"
      ]
     },
     "execution_count": 87,
     "metadata": {},
     "output_type": "execute_result"
    },
    {
     "data": {
      "image/png": "[encoded data removed]",
      "text/plain": [
       "<matplotlib.figure.Figure at 0x7eff4e26ec10>"
      ]
     },
     "metadata": {},
     "output_type": "display_data"
    }
   ],
   "source": [
    "plt.plot(cv_result[1], 'b-', cv_result[2].values, 'r--')"
   ]
  },
  {
   "cell_type": "code",
   "execution_count": null,
   "metadata": {
    "collapsed": true
   },
   "outputs": [],
   "source": []
  }
 ],
 "metadata": {
  "anaconda-cloud": {},
  "kernelspec": {
   "display_name": "Python [conda env:python_cursus]",
   "language": "python",
   "name": "conda-env-python_cursus-py"
  },
  "language_info": {
   "codemirror_mode": {
    "name": "ipython",
    "version": 2
   },
   "file_extension": ".py",
   "mimetype": "text/x-python",
   "name": "python",
   "nbconvert_exporter": "python",
   "pygments_lexer": "ipython2",
   "version": "2.7.13"
  }
 },
 "nbformat": 4,
 "nbformat_minor": 2
}
