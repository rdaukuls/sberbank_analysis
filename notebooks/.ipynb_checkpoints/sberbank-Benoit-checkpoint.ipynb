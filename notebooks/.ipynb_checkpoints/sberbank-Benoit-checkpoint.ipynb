{
 "cells": [
  {
   "cell_type": "code",
   "execution_count": 1,
   "metadata": {
    "collapsed": true
   },
   "outputs": [],
   "source": [
    "import pandas as pd\n",
    "import numpy as np\n",
    "\n",
    "from datetime import datetime as dt\n",
    "import matplotlib.pyplot as plt\n",
    "%matplotlib inline"
   ]
  },
  {
   "cell_type": "code",
   "execution_count": 2,
   "metadata": {
    "collapsed": true
   },
   "outputs": [],
   "source": [
    "df_macro = pd.read_csv('D:/kaggle/sberbank/macro.csv')\n",
    "df_train = pd.read_csv('D:/kaggle/sberbank/train.csv')\n",
    "df_test = pd.read_csv('D:/kaggle/sberbank/test.csv')\n"
   ]
  },
  {
   "cell_type": "markdown",
   "metadata": {},
   "source": [
    "## Feature Engineering"
   ]
  },
  {
   "cell_type": "markdown",
   "metadata": {},
   "source": [
    "### Full_sq vs Life_sq vs Kitch_sq"
   ]
  },
  {
   "cell_type": "code",
   "execution_count": 3,
   "metadata": {
    "collapsed": false
   },
   "outputs": [
    {
     "data": {
      "text/html": [
       "<div>\n",
       "<table border=\"1\" class=\"dataframe\">\n",
       "  <thead>\n",
       "    <tr style=\"text-align: right;\">\n",
       "      <th></th>\n",
       "      <th>full_sq</th>\n",
       "      <th>life_sq</th>\n",
       "      <th>kitch_sq</th>\n",
       "    </tr>\n",
       "  </thead>\n",
       "  <tbody>\n",
       "    <tr>\n",
       "      <th>1084</th>\n",
       "      <td>44</td>\n",
       "      <td>281.0</td>\n",
       "      <td>NaN</td>\n",
       "    </tr>\n",
       "    <tr>\n",
       "      <th>1188</th>\n",
       "      <td>9</td>\n",
       "      <td>44.0</td>\n",
       "      <td>NaN</td>\n",
       "    </tr>\n",
       "    <tr>\n",
       "      <th>1822</th>\n",
       "      <td>18</td>\n",
       "      <td>38.0</td>\n",
       "      <td>NaN</td>\n",
       "    </tr>\n",
       "    <tr>\n",
       "      <th>1863</th>\n",
       "      <td>30</td>\n",
       "      <td>178.0</td>\n",
       "      <td>NaN</td>\n",
       "    </tr>\n",
       "    <tr>\n",
       "      <th>2009</th>\n",
       "      <td>5</td>\n",
       "      <td>40.0</td>\n",
       "      <td>NaN</td>\n",
       "    </tr>\n",
       "    <tr>\n",
       "      <th>4385</th>\n",
       "      <td>73</td>\n",
       "      <td>426.0</td>\n",
       "      <td>NaN</td>\n",
       "    </tr>\n",
       "    <tr>\n",
       "      <th>6336</th>\n",
       "      <td>37</td>\n",
       "      <td>191.0</td>\n",
       "      <td>NaN</td>\n",
       "    </tr>\n",
       "    <tr>\n",
       "      <th>6531</th>\n",
       "      <td>80</td>\n",
       "      <td>88.0</td>\n",
       "      <td>NaN</td>\n",
       "    </tr>\n",
       "    <tr>\n",
       "      <th>6993</th>\n",
       "      <td>73</td>\n",
       "      <td>77.0</td>\n",
       "      <td>NaN</td>\n",
       "    </tr>\n",
       "    <tr>\n",
       "      <th>7208</th>\n",
       "      <td>31</td>\n",
       "      <td>195.0</td>\n",
       "      <td>NaN</td>\n",
       "    </tr>\n",
       "    <tr>\n",
       "      <th>8056</th>\n",
       "      <td>11</td>\n",
       "      <td>11.0</td>\n",
       "      <td>12.0</td>\n",
       "    </tr>\n",
       "    <tr>\n",
       "      <th>8101</th>\n",
       "      <td>37</td>\n",
       "      <td>38.0</td>\n",
       "      <td>NaN</td>\n",
       "    </tr>\n",
       "    <tr>\n",
       "      <th>9172</th>\n",
       "      <td>37</td>\n",
       "      <td>19.0</td>\n",
       "      <td>73.0</td>\n",
       "    </tr>\n",
       "    <tr>\n",
       "      <th>9237</th>\n",
       "      <td>47</td>\n",
       "      <td>301.0</td>\n",
       "      <td>6.0</td>\n",
       "    </tr>\n",
       "    <tr>\n",
       "      <th>9256</th>\n",
       "      <td>77</td>\n",
       "      <td>458.0</td>\n",
       "      <td>10.0</td>\n",
       "    </tr>\n",
       "    <tr>\n",
       "      <th>9482</th>\n",
       "      <td>52</td>\n",
       "      <td>53.0</td>\n",
       "      <td>8.0</td>\n",
       "    </tr>\n",
       "    <tr>\n",
       "      <th>9646</th>\n",
       "      <td>82</td>\n",
       "      <td>802.0</td>\n",
       "      <td>NaN</td>\n",
       "    </tr>\n",
       "    <tr>\n",
       "      <th>10048</th>\n",
       "      <td>38</td>\n",
       "      <td>20.0</td>\n",
       "      <td>37.0</td>\n",
       "    </tr>\n",
       "    <tr>\n",
       "      <th>10368</th>\n",
       "      <td>79</td>\n",
       "      <td>41.0</td>\n",
       "      <td>2013.0</td>\n",
       "    </tr>\n",
       "    <tr>\n",
       "      <th>10539</th>\n",
       "      <td>59</td>\n",
       "      <td>13.0</td>\n",
       "      <td>20.0</td>\n",
       "    </tr>\n",
       "    <tr>\n",
       "      <th>10641</th>\n",
       "      <td>41</td>\n",
       "      <td>1.0</td>\n",
       "      <td>41.0</td>\n",
       "    </tr>\n",
       "    <tr>\n",
       "      <th>10728</th>\n",
       "      <td>63</td>\n",
       "      <td>30.0</td>\n",
       "      <td>63.0</td>\n",
       "    </tr>\n",
       "    <tr>\n",
       "      <th>10955</th>\n",
       "      <td>81</td>\n",
       "      <td>1.0</td>\n",
       "      <td>14.0</td>\n",
       "    </tr>\n",
       "    <tr>\n",
       "      <th>11090</th>\n",
       "      <td>79</td>\n",
       "      <td>1.0</td>\n",
       "      <td>12.0</td>\n",
       "    </tr>\n",
       "    <tr>\n",
       "      <th>11157</th>\n",
       "      <td>43</td>\n",
       "      <td>1.0</td>\n",
       "      <td>40.0</td>\n",
       "    </tr>\n",
       "    <tr>\n",
       "      <th>11187</th>\n",
       "      <td>58</td>\n",
       "      <td>1.0</td>\n",
       "      <td>58.0</td>\n",
       "    </tr>\n",
       "    <tr>\n",
       "      <th>11241</th>\n",
       "      <td>41</td>\n",
       "      <td>10.0</td>\n",
       "      <td>19.0</td>\n",
       "    </tr>\n",
       "    <tr>\n",
       "      <th>11246</th>\n",
       "      <td>48</td>\n",
       "      <td>42.0</td>\n",
       "      <td>48.0</td>\n",
       "    </tr>\n",
       "    <tr>\n",
       "      <th>11332</th>\n",
       "      <td>1</td>\n",
       "      <td>40.0</td>\n",
       "      <td>1.0</td>\n",
       "    </tr>\n",
       "    <tr>\n",
       "      <th>11520</th>\n",
       "      <td>38</td>\n",
       "      <td>23.0</td>\n",
       "      <td>620.0</td>\n",
       "    </tr>\n",
       "    <tr>\n",
       "      <th>...</th>\n",
       "      <td>...</td>\n",
       "      <td>...</td>\n",
       "      <td>...</td>\n",
       "    </tr>\n",
       "    <tr>\n",
       "      <th>22191</th>\n",
       "      <td>60</td>\n",
       "      <td>33.0</td>\n",
       "      <td>60.0</td>\n",
       "    </tr>\n",
       "    <tr>\n",
       "      <th>22412</th>\n",
       "      <td>1</td>\n",
       "      <td>47.0</td>\n",
       "      <td>1.0</td>\n",
       "    </tr>\n",
       "    <tr>\n",
       "      <th>22458</th>\n",
       "      <td>66</td>\n",
       "      <td>62.0</td>\n",
       "      <td>66.0</td>\n",
       "    </tr>\n",
       "    <tr>\n",
       "      <th>22611</th>\n",
       "      <td>37</td>\n",
       "      <td>38.0</td>\n",
       "      <td>1.0</td>\n",
       "    </tr>\n",
       "    <tr>\n",
       "      <th>22804</th>\n",
       "      <td>54</td>\n",
       "      <td>55.0</td>\n",
       "      <td>1.0</td>\n",
       "    </tr>\n",
       "    <tr>\n",
       "      <th>22979</th>\n",
       "      <td>32</td>\n",
       "      <td>10.0</td>\n",
       "      <td>13.0</td>\n",
       "    </tr>\n",
       "    <tr>\n",
       "      <th>23216</th>\n",
       "      <td>43</td>\n",
       "      <td>29.0</td>\n",
       "      <td>44.0</td>\n",
       "    </tr>\n",
       "    <tr>\n",
       "      <th>23244</th>\n",
       "      <td>51</td>\n",
       "      <td>9.0</td>\n",
       "      <td>20.0</td>\n",
       "    </tr>\n",
       "    <tr>\n",
       "      <th>23789</th>\n",
       "      <td>63</td>\n",
       "      <td>31.0</td>\n",
       "      <td>63.0</td>\n",
       "    </tr>\n",
       "    <tr>\n",
       "      <th>24296</th>\n",
       "      <td>0</td>\n",
       "      <td>77.0</td>\n",
       "      <td>0.0</td>\n",
       "    </tr>\n",
       "    <tr>\n",
       "      <th>24428</th>\n",
       "      <td>74</td>\n",
       "      <td>78.0</td>\n",
       "      <td>1.0</td>\n",
       "    </tr>\n",
       "    <tr>\n",
       "      <th>26167</th>\n",
       "      <td>56</td>\n",
       "      <td>18.0</td>\n",
       "      <td>19.0</td>\n",
       "    </tr>\n",
       "    <tr>\n",
       "      <th>26236</th>\n",
       "      <td>34</td>\n",
       "      <td>16.0</td>\n",
       "      <td>84.0</td>\n",
       "    </tr>\n",
       "    <tr>\n",
       "      <th>26264</th>\n",
       "      <td>1</td>\n",
       "      <td>60.0</td>\n",
       "      <td>1.0</td>\n",
       "    </tr>\n",
       "    <tr>\n",
       "      <th>26336</th>\n",
       "      <td>78</td>\n",
       "      <td>23.0</td>\n",
       "      <td>29.0</td>\n",
       "    </tr>\n",
       "    <tr>\n",
       "      <th>26342</th>\n",
       "      <td>75</td>\n",
       "      <td>435.0</td>\n",
       "      <td>9.0</td>\n",
       "    </tr>\n",
       "    <tr>\n",
       "      <th>26363</th>\n",
       "      <td>1</td>\n",
       "      <td>64.0</td>\n",
       "      <td>1.0</td>\n",
       "    </tr>\n",
       "    <tr>\n",
       "      <th>26780</th>\n",
       "      <td>39</td>\n",
       "      <td>20.0</td>\n",
       "      <td>39.0</td>\n",
       "    </tr>\n",
       "    <tr>\n",
       "      <th>26833</th>\n",
       "      <td>39</td>\n",
       "      <td>11.0</td>\n",
       "      <td>14.0</td>\n",
       "    </tr>\n",
       "    <tr>\n",
       "      <th>26850</th>\n",
       "      <td>38</td>\n",
       "      <td>20.0</td>\n",
       "      <td>86.0</td>\n",
       "    </tr>\n",
       "    <tr>\n",
       "      <th>27118</th>\n",
       "      <td>78</td>\n",
       "      <td>23.0</td>\n",
       "      <td>29.0</td>\n",
       "    </tr>\n",
       "    <tr>\n",
       "      <th>27429</th>\n",
       "      <td>78</td>\n",
       "      <td>22.0</td>\n",
       "      <td>28.0</td>\n",
       "    </tr>\n",
       "    <tr>\n",
       "      <th>27651</th>\n",
       "      <td>77</td>\n",
       "      <td>0.0</td>\n",
       "      <td>1.0</td>\n",
       "    </tr>\n",
       "    <tr>\n",
       "      <th>28268</th>\n",
       "      <td>93</td>\n",
       "      <td>29.0</td>\n",
       "      <td>31.0</td>\n",
       "    </tr>\n",
       "    <tr>\n",
       "      <th>28734</th>\n",
       "      <td>31</td>\n",
       "      <td>16.0</td>\n",
       "      <td>1974.0</td>\n",
       "    </tr>\n",
       "    <tr>\n",
       "      <th>28997</th>\n",
       "      <td>50</td>\n",
       "      <td>30.0</td>\n",
       "      <td>97.0</td>\n",
       "    </tr>\n",
       "    <tr>\n",
       "      <th>29225</th>\n",
       "      <td>50</td>\n",
       "      <td>11.0</td>\n",
       "      <td>20.0</td>\n",
       "    </tr>\n",
       "    <tr>\n",
       "      <th>29302</th>\n",
       "      <td>56</td>\n",
       "      <td>57.0</td>\n",
       "      <td>5.0</td>\n",
       "    </tr>\n",
       "    <tr>\n",
       "      <th>29588</th>\n",
       "      <td>65</td>\n",
       "      <td>46.0</td>\n",
       "      <td>61.0</td>\n",
       "    </tr>\n",
       "    <tr>\n",
       "      <th>30269</th>\n",
       "      <td>34</td>\n",
       "      <td>12.0</td>\n",
       "      <td>13.0</td>\n",
       "    </tr>\n",
       "  </tbody>\n",
       "</table>\n",
       "<p>93 rows × 3 columns</p>\n",
       "</div>"
      ],
      "text/plain": [
       "       full_sq  life_sq  kitch_sq\n",
       "1084        44    281.0       NaN\n",
       "1188         9     44.0       NaN\n",
       "1822        18     38.0       NaN\n",
       "1863        30    178.0       NaN\n",
       "2009         5     40.0       NaN\n",
       "4385        73    426.0       NaN\n",
       "6336        37    191.0       NaN\n",
       "6531        80     88.0       NaN\n",
       "6993        73     77.0       NaN\n",
       "7208        31    195.0       NaN\n",
       "8056        11     11.0      12.0\n",
       "8101        37     38.0       NaN\n",
       "9172        37     19.0      73.0\n",
       "9237        47    301.0       6.0\n",
       "9256        77    458.0      10.0\n",
       "9482        52     53.0       8.0\n",
       "9646        82    802.0       NaN\n",
       "10048       38     20.0      37.0\n",
       "10368       79     41.0    2013.0\n",
       "10539       59     13.0      20.0\n",
       "10641       41      1.0      41.0\n",
       "10728       63     30.0      63.0\n",
       "10955       81      1.0      14.0\n",
       "11090       79      1.0      12.0\n",
       "11157       43      1.0      40.0\n",
       "11187       58      1.0      58.0\n",
       "11241       41     10.0      19.0\n",
       "11246       48     42.0      48.0\n",
       "11332        1     40.0       1.0\n",
       "11520       38     23.0     620.0\n",
       "...        ...      ...       ...\n",
       "22191       60     33.0      60.0\n",
       "22412        1     47.0       1.0\n",
       "22458       66     62.0      66.0\n",
       "22611       37     38.0       1.0\n",
       "22804       54     55.0       1.0\n",
       "22979       32     10.0      13.0\n",
       "23216       43     29.0      44.0\n",
       "23244       51      9.0      20.0\n",
       "23789       63     31.0      63.0\n",
       "24296        0     77.0       0.0\n",
       "24428       74     78.0       1.0\n",
       "26167       56     18.0      19.0\n",
       "26236       34     16.0      84.0\n",
       "26264        1     60.0       1.0\n",
       "26336       78     23.0      29.0\n",
       "26342       75    435.0       9.0\n",
       "26363        1     64.0       1.0\n",
       "26780       39     20.0      39.0\n",
       "26833       39     11.0      14.0\n",
       "26850       38     20.0      86.0\n",
       "27118       78     23.0      29.0\n",
       "27429       78     22.0      28.0\n",
       "27651       77      0.0       1.0\n",
       "28268       93     29.0      31.0\n",
       "28734       31     16.0    1974.0\n",
       "28997       50     30.0      97.0\n",
       "29225       50     11.0      20.0\n",
       "29302       56     57.0       5.0\n",
       "29588       65     46.0      61.0\n",
       "30269       34     12.0      13.0\n",
       "\n",
       "[93 rows x 3 columns]"
      ]
     },
     "execution_count": 3,
     "metadata": {},
     "output_type": "execute_result"
    }
   ],
   "source": [
    "df_train.loc[(df_train['full_sq']<df_train['life_sq'])|\n",
    "             (df_train['full_sq']<df_train['kitch_sq'])|\n",
    "             (df_train['life_sq']<df_train['kitch_sq'])\n",
    "             ,['full_sq','life_sq','kitch_sq']]"
   ]
  },
  {
   "cell_type": "markdown",
   "metadata": {},
   "source": [
    "### Useless Features"
   ]
  },
  {
   "cell_type": "code",
   "execution_count": 4,
   "metadata": {
    "collapsed": true
   },
   "outputs": [],
   "source": [
    "cols = np.array(df_train.columns)\n",
    "col_list = []\n",
    "for col in cols:\n",
    "    col_list = col_list + [len(np.unique(df_train.loc[~df_train[col].isnull(),col]))]"
   ]
  },
  {
   "cell_type": "code",
   "execution_count": 24,
   "metadata": {
    "collapsed": true
   },
   "outputs": [],
   "source": [
    "col_list = np.array(list(col_list))"
   ]
  },
  {
   "cell_type": "code",
   "execution_count": 27,
   "metadata": {
    "collapsed": false
   },
   "outputs": [
    {
     "data": {
      "text/plain": [
       "array([], dtype=object)"
      ]
     },
     "execution_count": 27,
     "metadata": {},
     "output_type": "execute_result"
    }
   ],
   "source": [
    "cols[col_list<2]"
   ]
  },
  {
   "cell_type": "markdown",
   "metadata": {},
   "source": [
    "## Categoricals"
   ]
  },
  {
   "cell_type": "code",
   "execution_count": 63,
   "metadata": {
    "collapsed": true
   },
   "outputs": [],
   "source": [
    "#Some correction on Data\n",
    "df_train.loc[(df_train['id']==3530),'full_sq'] = 53.26\n",
    "df_train.loc[(df_train['id']==13549),'life_sq'] = 74.78\n",
    "\n",
    "yes_no = {'yes':1,'no':1}\n",
    "prod_type = {'Investment':1,'OwnerOccupier':1}\n",
    "eco = {'excellent':2,'good':1,'satisfactory':0,'poor':-1,'no data':np.nan}\n",
    "\n",
    "df_train['product_type'] = df_train['product_type'].apply(lambda x:prod_type[x])\n",
    "df_train['ecology'] = df_train['ecology'].apply(lambda x:eco[x])\n",
    "df_train[['culture_objects_top_25','thermal_power_plant_raion',              \n",
    "                'incineration_raion',                      \n",
    "                'oil_chemistry_raion',                      \n",
    "                'radiation_raion',                    \n",
    "                'railroad_terminal_raion',                 \n",
    "                'big_market_raion',                         \n",
    "                'nuclear_reactor_raion',                   \n",
    "                'detention_facility_raion',\n",
    "                'water_1line',  \n",
    "                'big_road1_1line',\n",
    "                'railroad_1line']]= df_train[['culture_objects_top_25','thermal_power_plant_raion', \n",
    "                                              'incineration_raion',                      \n",
    "                                               'oil_chemistry_raion',                      \n",
    "                                                'radiation_raion',                    \n",
    "                                                'railroad_terminal_raion',                 \n",
    "                                                'big_market_raion',                         \n",
    "                                                'nuclear_reactor_raion',                   \n",
    "                                                'detention_facility_raion',\n",
    "                                                'water_1line',  \n",
    "                                                'big_road1_1line',\n",
    "                                                'railroad_1line']].apply(lambda col: col.apply(lambda x: yes_no[x]) )\n",
    "\n",
    "def prod_typ(x):\n",
    "    if x=='nan':\n",
    "        return prod_type[x]\n",
    "    else:\n",
    "        return np.nan\n",
    "df_test['product_type'] = df_test['product_type'].apply(lambda x:prod_typ(x) )\n",
    "df_test['ecology'] = df_test['ecology'].apply(lambda x:eco[x])\n",
    "df_test[['culture_objects_top_25','thermal_power_plant_raion',              \n",
    "                'incineration_raion',                      \n",
    "                'oil_chemistry_raion',                      \n",
    "                'radiation_raion',                    \n",
    "                'railroad_terminal_raion',                 \n",
    "                'big_market_raion',                         \n",
    "                'nuclear_reactor_raion',                   \n",
    "                'detention_facility_raion',\n",
    "                'water_1line',  \n",
    "                'big_road1_1line',\n",
    "                'railroad_1line']]= df_test[['culture_objects_top_25','thermal_power_plant_raion', \n",
    "                                              'incineration_raion',                      \n",
    "                                               'oil_chemistry_raion',                      \n",
    "                                                'radiation_raion',                    \n",
    "                                                'railroad_terminal_raion',                 \n",
    "                                                'big_market_raion',                         \n",
    "                                                'nuclear_reactor_raion',                   \n",
    "                                                'detention_facility_raion',\n",
    "                                                'water_1line',  \n",
    "                                                'big_road1_1line',\n",
    "                                                'railroad_1line']].apply(lambda col: col.apply(lambda x: yes_no[x]) )"
   ]
  },
  {
   "cell_type": "markdown",
   "metadata": {},
   "source": [
    "## Time"
   ]
  },
  {
   "cell_type": "code",
   "execution_count": 64,
   "metadata": {
    "collapsed": true
   },
   "outputs": [],
   "source": [
    "df_train[time] = df_train[time].apply(lambda x:dt.strptime(x, '%Y-%m-%d'))\n",
    "df_train['year'] = df_train[time].apply(lambda x:x.year)\n",
    "df_train['month'] = df_train[time].apply(lambda x:x.month)\n",
    "df_train['day'] = df_train[time].apply(lambda x:x.day)\n",
    "\n",
    "df_test[time] = df_test[time].apply(lambda x:dt.strptime(x, '%Y-%m-%d'))\n",
    "df_test['year'] = df_test[time].apply(lambda x:x.year)\n",
    "df_test['month'] = df_test[time].apply(lambda x:x.month)\n",
    "df_test['day'] = df_test[time].apply(lambda x:x.day)"
   ]
  },
  {
   "cell_type": "markdown",
   "metadata": {},
   "source": [
    "## Macro"
   ]
  },
  {
   "cell_type": "code",
   "execution_count": 65,
   "metadata": {
    "collapsed": true
   },
   "outputs": [],
   "source": [
    "macro_cols = [\"balance_trade\", \"balance_trade_growth\", \"eurrub\", \"average_provision_of_build_contract\",\n",
    "\"micex_rgbi_tr\", \"micex_cbi_tr\", \"deposits_rate\", \"mortgage_value\", \"mortgage_rate\",\n",
    "\"income_per_cap\", \"rent_price_4+room_bus\", \"museum_visitis_per_100_cap\", \"apartment_build\"]"
   ]
  },
  {
   "cell_type": "code",
   "execution_count": 66,
   "metadata": {
    "collapsed": true
   },
   "outputs": [],
   "source": [
    "##########################3\n",
    "# MACRO\n",
    "from sklearn.decomposition import PCA\n",
    "decomp = PCA(n_components= 50)\n",
    "df_macro = pd.read_csv('D:/kaggle/sberbank/macro.csv')\n",
    "\n",
    "macro_feat = list(df_macro.columns)\n",
    "object_macro = ['timestamp','child_on_acc_pre_school' ,'modern_education_share' ,'old_education_build_share']\n",
    "for col in object_macro:\n",
    "    if col in macro_feat:\n",
    "        macro_feat.remove(col)\n",
    "    \n",
    "time = 'timestamp'   \n",
    "df_macro[time] = df_macro[time].apply(lambda x:dt.strptime(x, '%Y-%m-%d'))\n",
    "df_macro['year'] = df_macro[time].apply(lambda x:x.year)\n",
    "df_macro['month'] = df_macro[time].apply(lambda x:x.month)\n",
    "df_macro['day'] = df_macro[time].apply(lambda x:x.day)\n",
    "\n",
    "#lag = 300\n",
    "#lag_macro = list(map(lambda x: 'Lag_'+str(lag)+x,macro_feat) )\n",
    "#df_macro[macro_feat] = df_macro[macro_feat].bfill()\n",
    "#df_macro[lag_macro] = df_macro[macro_feat].shift(lag).bfill()\n",
    "\n",
    "#delta_macro = list(map(lambda x: 'delta_'+x,macro_feat) )\n",
    "#df_macro[delta_macro]=pd.DataFrame(np.array(list(map(lambda cols: (df_macro[cols[0]]-df_macro[cols[1]])/df_macro[cols[0]], zip(macro_feat,lag_macro) )) ).transpose(),columns=delta_macro)\n",
    "\n",
    "all_macro_feat = list(df_macro.columns)\n",
    "all_macro_feat.remove(time)\n",
    "df_macro_fin = df_macro[list(set(['year','month','day']+macro_feat))].bfill()\n",
    "df_train = pd.merge(df_train,df_macro_fin,on=['year','month','day'],how='left')\n",
    "df_test = pd.merge(df_test,df_macro_fin,on=['year','month','day'],how='left')"
   ]
  },
  {
   "cell_type": "code",
   "execution_count": 77,
   "metadata": {
    "collapsed": false
   },
   "outputs": [
    {
     "data": {
      "text/plain": [
       "Index(['timestamp', 'oil_urals', 'gdp_quart', 'gdp_quart_growth', 'cpi', 'ppi',\n",
       "       'gdp_deflator', 'balance_trade', 'balance_trade_growth', 'usdrub',\n",
       "       ...\n",
       "       'seats_theather_rfmin_per_100000_cap', 'museum_visitis_per_100_cap',\n",
       "       'bandwidth_sports', 'population_reg_sports_share',\n",
       "       'students_reg_sports_share', 'apartment_build', 'apartment_fund_sqm',\n",
       "       'year', 'month', 'day'],\n",
       "      dtype='object', length=103)"
      ]
     },
     "execution_count": 77,
     "metadata": {},
     "output_type": "execute_result"
    }
   ],
   "source": [
    "from sklearn.decomposition import PCA"
   ]
  },
  {
   "cell_type": "code",
   "execution_count": 75,
   "metadata": {
    "collapsed": false
   },
   "outputs": [
    {
     "data": {
      "text/plain": [
       "[<matplotlib.lines.Line2D at 0x226b65dd2b0>]"
      ]
     },
     "execution_count": 75,
     "metadata": {},
     "output_type": "execute_result"
    },
    {
     "data": {
      "image/png": "[encoded data removed]",
      "text/plain": [
       "<matplotlib.figure.Figure at 0x226b7eb5128>"
      ]
     },
     "metadata": {},
     "output_type": "display_data"
    }
   ],
   "source": [
    "plt.plot(df_macro[time],df_macro_fin[\"mortgage_rate\"])"
   ]
  },
  {
   "cell_type": "markdown",
   "metadata": {},
   "source": [
    "## Model"
   ]
  },
  {
   "cell_type": "code",
   "execution_count": 72,
   "metadata": {
    "collapsed": false
   },
   "outputs": [
    {
     "name": "stdout",
     "output_type": "stream",
     "text": [
      "Start Fitting\n",
      "Start Prediction\n",
      "End Prediction\n"
     ]
    }
   ],
   "source": [
    "from xgboost import XGBRegressor\n",
    "reg =  XGBRegressor(max_depth=5,)\n",
    "\n",
    "select_year = [2011,2012,2013,2014]\n",
    "test_year = [2015]\n",
    "all_cols = list(df_train.columns)\n",
    "to_remove = ['id','timestamp','timestamp_x','timestamp_y','price_doc','year','sub_area','child_on_acc_pre_school',\n",
    "             'modern_education_share','old_education_build_share','build_year']\n",
    "for cols in to_remove:\n",
    "    if cols in all_cols:\n",
    "        all_cols.remove(cols)\n",
    "y = np.log(df_train.loc[df_train['year'].isin(select_year),'price_doc'].values)\n",
    "Xtrain = df_train.loc[df_train['year'].isin(select_year),all_cols ]\n",
    "#Xtest = df_test.loc[:,all_cols ]\n",
    "\n",
    "Xtest = df_train.loc[df_train['year'].isin(test_year),all_cols ]\n",
    "ytest = np.log(df_train.loc[df_train['year'].isin(test_year),'price_doc'].values)\n",
    "\n",
    "print('Start Fitting')\n",
    "reg.fit(Xtrain,y)\n",
    "print('Start Prediction')\n",
    "ypred = (reg.predict(Xtest))\n",
    "print('End Prediction')\n",
    "#df_test['price_doc'] = ypred"
   ]
  },
  {
   "cell_type": "markdown",
   "metadata": {},
   "source": [
    "## Cross-Validation"
   ]
  },
  {
   "cell_type": "code",
   "execution_count": 73,
   "metadata": {
    "collapsed": false
   },
   "outputs": [
    {
     "data": {
      "text/plain": [
       "0.16529688936299136"
      ]
     },
     "execution_count": 73,
     "metadata": {},
     "output_type": "execute_result"
    }
   ],
   "source": [
    "from sklearn.metrics import mean_squared_error\n",
    "mean_squared_error(ytest,ypred)\n"
   ]
  },
  {
   "cell_type": "code",
   "execution_count": 76,
   "metadata": {
    "collapsed": false
   },
   "outputs": [
    {
     "name": "stdout",
     "output_type": "stream",
     "text": [
      "['full_sq', 'floor', 'life_sq', 'max_floor', 'eurrub', 'micex_cbi_tr', 'green_zone_km', 'mortgage_rate', 'state', 'micex_rgbi_tr', 'day', 'railroad_km', 'kindergarten_km', 'metro_min_avto', 'additional_education_km']\n"
     ]
    }
   ],
   "source": [
    "sort_index = np.argsort(reg.feature_importances_)[::-1]\n",
    "best_feat = list(np.array(all_cols)[sort_index ][:15])\n",
    "print(best_feat)"
   ]
  },
  {
   "cell_type": "markdown",
   "metadata": {},
   "source": [
    "### Submission"
   ]
  },
  {
   "cell_type": "code",
   "execution_count": 69,
   "metadata": {
    "collapsed": true
   },
   "outputs": [],
   "source": [
    "df_sub = pd.DataFrame()\n",
    "df_sub['id'] = df_test['id'].copy()\n",
    "df_sub['price_doc'] = ypred\n",
    "df_sub.to_csv('D:/kaggle/sberbank/submission4.csv')"
   ]
  },
  {
   "cell_type": "code",
   "execution_count": null,
   "metadata": {
    "collapsed": true
   },
   "outputs": [],
   "source": []
  }
 ],
 "metadata": {
  "anaconda-cloud": {},
  "kernelspec": {
   "display_name": "Python [conda env:python_cursus]",
   "language": "python",
   "name": "conda-env-python_cursus-py"
  },
  "language_info": {
   "codemirror_mode": {
    "name": "ipython",
    "version": 2
   },
   "file_extension": ".py",
   "mimetype": "text/x-python",
   "name": "python",
   "nbconvert_exporter": "python",
   "pygments_lexer": "ipython2",
   "version": "2.7.13"
  }
 },
 "nbformat": 4,
 "nbformat_minor": 2
}
