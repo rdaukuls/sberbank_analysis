{
 "cells": [
  {
   "cell_type": "markdown",
   "metadata": {},
   "source": [
    "## Introduction"
   ]
  },
  {
   "cell_type": "markdown",
   "metadata": {},
   "source": [
    "The goal of this script is to build a macroeconomic model that predicts changes in monthly median price. On the basis of this model, I select features to be added to the final model."
   ]
  },
  {
   "cell_type": "code",
   "execution_count": 4,
   "metadata": {
    "collapsed": true
   },
   "outputs": [],
   "source": [
    "import pandas as pd\n",
    "import numpy as np\n",
    "from sklearn.preprocessing import label_binarize\n",
    "from datetime import datetime as dt\n",
    "import matplotlib.pyplot as plt\n",
    "from IPython.display import clear_output\n",
    "%matplotlib inline\n",
    "\n",
    "pd.set_option('display.max_rows', 500)\n",
    "pd.set_option('display.max_columns', 500)"
   ]
  },
  {
   "cell_type": "code",
   "execution_count": 5,
   "metadata": {
    "collapsed": true
   },
   "outputs": [],
   "source": [
    "df_macro = pd.read_csv('~/Desktop/sberbank/macro.csv')\n",
    "df_train = pd.read_csv('~/Desktop/sberbank/train.csv')\n",
    "df_test = pd.read_csv('~/Desktop/sberbank/test.csv')"
   ]
  },
  {
   "cell_type": "code",
   "execution_count": 6,
   "metadata": {
    "collapsed": true
   },
   "outputs": [],
   "source": [
    "def extract_date_variables(input_data, date_in_index=False):\n",
    "    \n",
    "    '''This function extracts data variables from a series or index of a series. Returns\n",
    "        a DataFrame with extracted variables'''\n",
    "\n",
    "    if date_in_index:\n",
    "        \n",
    "        #input_data['weeknr'] = map(lambda x: str(x), input_data.index.week)\n",
    "        input_data['year'] = map(lambda x: str(x), input_data.index.year)\n",
    "        input_data['month'] = map(lambda x: str(x), input_data.index.month)\n",
    "\n",
    "        #input_data['week_year'] = input_data['weeknr'] + '_' + input_data['year']\n",
    "        input_data['month_year'] = input_data['month'] + '_' + input_data['year']\n",
    "\n",
    "        return input_data\n",
    "    \n",
    "    else:\n",
    "        output_data = input_data.to_frame(name='timestamp')\n",
    "        \n",
    "        #output_data['weeknr'] = map(lambda x: str(x.week), output_data['timestamp'])\n",
    "        output_data['year'] = map(lambda x: str(x.year), output_data['timestamp'])\n",
    "        output_data['month'] = map(lambda x: str(x.month), output_data['timestamp'])\n",
    "\n",
    "        #output_data['week_year']  = output_data['weeknr'] + '_' + output_data['year']\n",
    "        output_data['month_year'] = output_data['month'] + '_' + output_data['year']\n",
    "\n",
    "        return output_data"
   ]
  },
  {
   "cell_type": "markdown",
   "metadata": {},
   "source": [
    "## Macro target: monthly median prices (log)"
   ]
  },
  {
   "cell_type": "code",
   "execution_count": 7,
   "metadata": {
    "collapsed": true
   },
   "outputs": [],
   "source": [
    "price_data = df_train[['timestamp','price_doc']].copy()\n",
    "price_data['timestamp'] = pd.to_datetime(price_data['timestamp'] )\n",
    "price_data = df_train[['timestamp', 'price_doc']].copy()\n",
    "prices = price_data.groupby(price_data['timestamp']).median()\n",
    "\n",
    "prices.index = map(lambda x: pd.to_datetime(x), prices.index)\n",
    "prices_timevar = extract_date_variables(prices, True)\n",
    "\n",
    "med_price_monthly = prices_timevar.groupby('month_year', as_index=False, sort = False).median()\n",
    "\n",
    "y_train = pd.Series(np.log(med_price_monthly.price_doc.values), index=med_price_monthly.month_year.values).to_frame(name='price_doc')"
   ]
  },
  {
   "cell_type": "markdown",
   "metadata": {},
   "source": [
    "## Macro data preprocessing"
   ]
  },
  {
   "cell_type": "markdown",
   "metadata": {},
   "source": [
    "Add date variables:"
   ]
  },
  {
   "cell_type": "code",
   "execution_count": 22,
   "metadata": {
    "collapsed": false
   },
   "outputs": [],
   "source": [
    "df_macro['timestamp'] = pd.to_datetime(df_macro['timestamp'])\n",
    "\n",
    "df_macro = pd.concat([df_macro, extract_date_variables(df_macro['timestamp']).iloc[:,2:] ], axis=1)\n"
   ]
  },
  {
   "cell_type": "code",
   "execution_count": 23,
   "metadata": {
    "collapsed": true
   },
   "outputs": [],
   "source": [
    "# fill NA\n",
    "df_macro.fillna(method='ffill', inplace=True)\n",
    "df_macro.fillna(method='bfill', inplace=True)\n",
    "\n",
    "\n",
    "# aggregate\n",
    "df_macro_monthly = df_macro.groupby('month_year', sort=False).median()"
   ]
  },
  {
   "cell_type": "markdown",
   "metadata": {},
   "source": [
    "Merge with target variable and take first differences:"
   ]
  },
  {
   "cell_type": "code",
   "execution_count": 31,
   "metadata": {
    "collapsed": false
   },
   "outputs": [],
   "source": [
    "df_macro_monthly = df_macro_monthly.merge(y_train, left_index=True, right_index=True)"
   ]
  },
  {
   "cell_type": "code",
   "execution_count": 35,
   "metadata": {
    "collapsed": true
   },
   "outputs": [],
   "source": [
    "df_macro_monthly_diff = df_macro_monthly.diff().iloc[1:,:]"
   ]
  },
  {
   "cell_type": "code",
   "execution_count": 37,
   "metadata": {
    "collapsed": true
   },
   "outputs": [],
   "source": [
    "X = df_macro_monthly_diff.drop('price_doc', axis=1)\n",
    "y = df_macro_monthly_diff['price_doc']"
   ]
  },
  {
   "cell_type": "markdown",
   "metadata": {},
   "source": [
    "## Random forest macro model"
   ]
  },
  {
   "cell_type": "code",
   "execution_count": 41,
   "metadata": {
    "collapsed": true
   },
   "outputs": [],
   "source": [
    "from sklearn import linear_model, decomposition, datasets\n",
    "from sklearn.pipeline import Pipeline\n",
    "from sklearn.model_selection import GridSearchCV\n",
    "from sklearn.ensemble import RandomForestRegressor\n",
    "from sklearn.preprocessing import StandardScaler"
   ]
  },
  {
   "cell_type": "code",
   "execution_count": 42,
   "metadata": {
    "collapsed": true
   },
   "outputs": [],
   "source": [
    "rf = RandomForestRegressor(n_jobs=-1)\n",
    "pca = decomposition.PCA(whiten=True)\n",
    "scl = StandardScaler()"
   ]
  },
  {
   "cell_type": "code",
   "execution_count": 43,
   "metadata": {
    "collapsed": true
   },
   "outputs": [],
   "source": [
    "pipe = Pipeline([('scaler', scl), ('pca', pca), ('rf', rf)])"
   ]
  },
  {
   "cell_type": "code",
   "execution_count": 44,
   "metadata": {
    "collapsed": true
   },
   "outputs": [],
   "source": [
    "n_comp = [5, 10, 15, 20, None]"
   ]
  },
  {
   "cell_type": "code",
   "execution_count": 48,
   "metadata": {
    "collapsed": false
   },
   "outputs": [],
   "source": [
    "estimator = GridSearchCV(pipe, dict(pca__n_components = n_comp), n_jobs=-1)"
   ]
  },
  {
   "cell_type": "code",
   "execution_count": 50,
   "metadata": {
    "collapsed": false
   },
   "outputs": [],
   "source": [
    "result = estimator.fit(X,y)"
   ]
  },
  {
   "cell_type": "code",
   "execution_count": 52,
   "metadata": {
    "collapsed": false
   },
   "outputs": [
    {
     "data": {
      "text/plain": [
       "Pipeline(steps=[('scaler', StandardScaler(copy=True, with_mean=True, with_std=True)), ('pca', PCA(copy=True, iterated_power='auto', n_components=15, random_state=None,\n",
       "  svd_solver='auto', tol=0.0, whiten=True)), ('rf', RandomForestRegressor(bootstrap=True, criterion='mse', max_depth=None,\n",
       "           max_fea...imators=10, n_jobs=-1, oob_score=False, random_state=None,\n",
       "           verbose=0, warm_start=False))])"
      ]
     },
     "execution_count": 52,
     "metadata": {},
     "output_type": "execute_result"
    }
   ],
   "source": [
    "result.best_estimator_"
   ]
  },
  {
   "cell_type": "code",
   "execution_count": 53,
   "metadata": {
    "collapsed": false
   },
   "outputs": [
    {
     "data": {
      "text/plain": [
       "-0.61171185590434962"
      ]
     },
     "execution_count": 53,
     "metadata": {},
     "output_type": "execute_result"
    }
   ],
   "source": [
    "result.best_score_"
   ]
  },
  {
   "cell_type": "markdown",
   "metadata": {},
   "source": [
    "Fit and visualise 'best' model"
   ]
  },
  {
   "cell_type": "code",
   "execution_count": 80,
   "metadata": {
    "collapsed": true
   },
   "outputs": [],
   "source": [
    "rf1 = RandomForestRegressor(n_jobs=-1)\n",
    "rf2 = RandomForestRegressor(n_jobs=-1)\n",
    "\n",
    "pca = decomposition.PCA(whiten=True, n_components=15)\n",
    "\n",
    "scl1 = StandardScaler()\n",
    "scl2 = StandardScaler()\n",
    "\n",
    "\n",
    "pipe1 = Pipeline([('scaler', scl1), ('pca', pca), ('rf', rf1)])\n",
    "pipe2 = Pipeline([('scaler', scl2), ('rf', rf2)])"
   ]
  },
  {
   "cell_type": "code",
   "execution_count": 81,
   "metadata": {
    "collapsed": true
   },
   "outputs": [],
   "source": [
    "est_model = pipe1.fit(X,y)"
   ]
  },
  {
   "cell_type": "code",
   "execution_count": 82,
   "metadata": {
    "collapsed": true
   },
   "outputs": [],
   "source": [
    "predictions = pipe1.predict(X)"
   ]
  },
  {
   "cell_type": "code",
   "execution_count": 83,
   "metadata": {
    "collapsed": false
   },
   "outputs": [
    {
     "data": {
      "text/plain": [
       "[<matplotlib.lines.Line2D at 0x7fe045bf2090>,\n",
       " <matplotlib.lines.Line2D at 0x7fe045c4e5d0>]"
      ]
     },
     "execution_count": 83,
     "metadata": {},
     "output_type": "execute_result"
    },
    {
     "data": {
      "image/png": "[encoded data removed]",
      "text/plain": [
       "<matplotlib.figure.Figure at 0x7fe045dab250>"
      ]
     },
     "metadata": {},
     "output_type": "display_data"
    }
   ],
   "source": [
    "plt.plot(y.values, 'b-', predictions, 'r--')"
   ]
  },
  {
   "cell_type": "markdown",
   "metadata": {},
   "source": [
    "Plot prediction error outside training set:"
   ]
  },
  {
   "cell_type": "code",
   "execution_count": 84,
   "metadata": {
    "collapsed": false
   },
   "outputs": [],
   "source": [
    "X_train = X.iloc[:30,:]\n",
    "y_train = y.iloc[:30]\n",
    "\n",
    "X_test = X.iloc[30:,:]\n",
    "y_test = y.iloc[30:]"
   ]
  },
  {
   "cell_type": "code",
   "execution_count": 86,
   "metadata": {
    "collapsed": true
   },
   "outputs": [],
   "source": [
    "#est_model1 = pipe1.fit(X_train, y_train)\n",
    "est_model2 = pipe2.fit(X_train, y_train)"
   ]
  },
  {
   "cell_type": "code",
   "execution_count": 87,
   "metadata": {
    "collapsed": false
   },
   "outputs": [],
   "source": [
    "#predictions1 = est_model1.predict(X_test)\n",
    "predictions2 = est_model2.predict(X_test)"
   ]
  },
  {
   "cell_type": "code",
   "execution_count": 88,
   "metadata": {
    "collapsed": false
   },
   "outputs": [
    {
     "data": {
      "text/plain": [
       "[<matplotlib.lines.Line2D at 0x7fe040073ad0>,\n",
       " <matplotlib.lines.Line2D at 0x7fe040073d10>]"
      ]
     },
     "execution_count": 88,
     "metadata": {},
     "output_type": "execute_result"
    },
    {
     "data": {
      "image/png": "[encoded data removed]",
      "text/plain": [
       "<matplotlib.figure.Figure at 0x7fe044d43390>"
      ]
     },
     "metadata": {},
     "output_type": "display_data"
    }
   ],
   "source": [
    "plt.plot(y_test.values, 'b-', predictions2, 'r--')"
   ]
  },
  {
   "cell_type": "code",
   "execution_count": null,
   "metadata": {
    "collapsed": true
   },
   "outputs": [],
   "source": []
  }
 ],
 "metadata": {
  "anaconda-cloud": {},
  "kernelspec": {
   "display_name": "Python [conda env:python_cursus]",
   "language": "python",
   "name": "conda-env-python_cursus-py"
  },
  "language_info": {
   "codemirror_mode": {
    "name": "ipython",
    "version": 2
   },
   "file_extension": ".py",
   "mimetype": "text/x-python",
   "name": "python",
   "nbconvert_exporter": "python",
   "pygments_lexer": "ipython2",
   "version": "2.7.13"
  }
 },
 "nbformat": 4,
 "nbformat_minor": 2
}
