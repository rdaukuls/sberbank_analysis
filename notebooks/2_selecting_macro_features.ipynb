{
 "cells": [
  {
   "cell_type": "markdown",
   "metadata": {},
   "source": [
    "## Introduction"
   ]
  },
  {
   "cell_type": "markdown",
   "metadata": {},
   "source": [
    "The goal of this script is to build a macroeconomic model that predicts changes in monthly median price. On the basis of this model, I select features to be added to the final model."
   ]
  },
  {
   "cell_type": "code",
   "execution_count": 1,
   "metadata": {
    "collapsed": true
   },
   "outputs": [],
   "source": [
    "import pandas as pd\n",
    "import numpy as np\n",
    "from sklearn.preprocessing import label_binarize\n",
    "from datetime import datetime as dt\n",
    "import matplotlib.pyplot as plt\n",
    "from IPython.display import clear_output\n",
    "%matplotlib inline\n",
    "\n",
    "pd.set_option('display.max_rows', 500)\n",
    "pd.set_option('display.max_columns', 500)"
   ]
  },
  {
   "cell_type": "code",
   "execution_count": 2,
   "metadata": {
    "collapsed": true
   },
   "outputs": [],
   "source": [
    "datadir = '~/Desktop/sberbank_samen/data/'"
   ]
  },
  {
   "cell_type": "code",
   "execution_count": 3,
   "metadata": {
    "collapsed": true
   },
   "outputs": [],
   "source": [
    "df_macro = pd.read_csv(datadir + 'macro.csv')\n",
    "df_train = pd.read_csv(datadir +'train.csv')\n",
    "df_test = pd.read_csv(datadir + 'test.csv')"
   ]
  },
  {
   "cell_type": "code",
   "execution_count": 4,
   "metadata": {
    "collapsed": true
   },
   "outputs": [],
   "source": [
    "def extract_date_variables(input_data, date_in_index=False):\n",
    "    \n",
    "    '''This function extracts data variables from a series or index of a series. Returns\n",
    "        a DataFrame with extracted variables'''\n",
    "\n",
    "    if date_in_index:\n",
    "        \n",
    "        #input_data['weeknr'] = map(lambda x: str(x), input_data.index.week)\n",
    "        input_data['year'] = map(lambda x: str(x), input_data.index.year)\n",
    "        input_data['month'] = map(lambda x: str(x), input_data.index.month)\n",
    "\n",
    "        #input_data['week_year'] = input_data['weeknr'] + '_' + input_data['year']\n",
    "        input_data['month_year'] = input_data['month'] + '_' + input_data['year']\n",
    "\n",
    "        return input_data\n",
    "    \n",
    "    else:\n",
    "        output_data = input_data.to_frame(name='timestamp')\n",
    "        \n",
    "        #output_data['weeknr'] = map(lambda x: str(x.week), output_data['timestamp'])\n",
    "        output_data['year'] = map(lambda x: str(x.year), output_data['timestamp'])\n",
    "        output_data['month'] = map(lambda x: str(x.month), output_data['timestamp'])\n",
    "\n",
    "        #output_data['week_year']  = output_data['weeknr'] + '_' + output_data['year']\n",
    "        output_data['month_year'] = output_data['month'] + '_' + output_data['year']\n",
    "\n",
    "        return output_data"
   ]
  },
  {
   "cell_type": "markdown",
   "metadata": {},
   "source": [
    "## Macro target: monthly median prices (log)"
   ]
  },
  {
   "cell_type": "code",
   "execution_count": 5,
   "metadata": {
    "collapsed": true
   },
   "outputs": [],
   "source": [
    "price_data = df_train[['timestamp','price_doc']].copy()\n",
    "price_data['timestamp'] = pd.to_datetime(price_data['timestamp'] )\n",
    "price_data = df_train[['timestamp', 'price_doc']].copy()\n",
    "prices = price_data.groupby(price_data['timestamp']).median()\n",
    "\n",
    "prices.index = map(lambda x: pd.to_datetime(x), prices.index)\n",
    "prices_timevar = extract_date_variables(prices, True)\n",
    "\n",
    "med_price_monthly = prices_timevar.groupby('month_year', as_index=False, sort = False).median()\n",
    "\n",
    "y_train = pd.Series(np.log(med_price_monthly.price_doc.values), index=med_price_monthly.month_year.values).to_frame(name='price_doc')"
   ]
  },
  {
   "cell_type": "markdown",
   "metadata": {},
   "source": [
    "## Macro data preprocessing"
   ]
  },
  {
   "cell_type": "markdown",
   "metadata": {},
   "source": [
    "Add date variables:"
   ]
  },
  {
   "cell_type": "code",
   "execution_count": 6,
   "metadata": {
    "collapsed": false
   },
   "outputs": [],
   "source": [
    "df_macro['timestamp'] = pd.to_datetime(df_macro['timestamp'])\n",
    "\n",
    "df_macro = pd.concat([df_macro, extract_date_variables(df_macro['timestamp']).iloc[:,2:] ], axis=1)\n"
   ]
  },
  {
   "cell_type": "code",
   "execution_count": 7,
   "metadata": {
    "collapsed": true
   },
   "outputs": [],
   "source": [
    "# fill NA\n",
    "df_macro.fillna(method='ffill', inplace=True)\n",
    "df_macro.fillna(method='bfill', inplace=True)\n",
    "\n",
    "\n",
    "# aggregate\n",
    "df_macro_monthly = df_macro.groupby('month_year', sort=False).median()"
   ]
  },
  {
   "cell_type": "markdown",
   "metadata": {},
   "source": [
    "Merge with target variable and take first differences:"
   ]
  },
  {
   "cell_type": "code",
   "execution_count": 8,
   "metadata": {
    "collapsed": false
   },
   "outputs": [],
   "source": [
    "df_macro_monthly = df_macro_monthly.merge(y_train, left_index=True, right_index=True)"
   ]
  },
  {
   "cell_type": "code",
   "execution_count": 9,
   "metadata": {
    "collapsed": true
   },
   "outputs": [],
   "source": [
    "df_macro_monthly_diff = df_macro_monthly.diff().iloc[1:,:]"
   ]
  },
  {
   "cell_type": "code",
   "execution_count": 10,
   "metadata": {
    "collapsed": true
   },
   "outputs": [],
   "source": [
    "X = df_macro_monthly_diff.drop('price_doc', axis=1)\n",
    "y = df_macro_monthly_diff['price_doc']"
   ]
  },
  {
   "cell_type": "markdown",
   "metadata": {},
   "source": [
    "## Random forest macro model"
   ]
  },
  {
   "cell_type": "code",
   "execution_count": 11,
   "metadata": {
    "collapsed": true
   },
   "outputs": [],
   "source": [
    "from sklearn import linear_model, decomposition, datasets\n",
    "from sklearn.pipeline import Pipeline\n",
    "from sklearn.model_selection import GridSearchCV\n",
    "from sklearn.ensemble import RandomForestRegressor\n",
    "from sklearn.preprocessing import StandardScaler"
   ]
  },
  {
   "cell_type": "code",
   "execution_count": 12,
   "metadata": {
    "collapsed": true
   },
   "outputs": [],
   "source": [
    "rf = RandomForestRegressor(n_jobs=-1)\n",
    "pca = decomposition.PCA(whiten=True)\n",
    "scl = StandardScaler()"
   ]
  },
  {
   "cell_type": "code",
   "execution_count": 13,
   "metadata": {
    "collapsed": true
   },
   "outputs": [],
   "source": [
    "pipe = Pipeline([('scaler', scl), ('pca', pca), ('rf', rf)])"
   ]
  },
  {
   "cell_type": "code",
   "execution_count": 14,
   "metadata": {
    "collapsed": true
   },
   "outputs": [],
   "source": [
    "n_comp = [5, 10, 15, 20, None]"
   ]
  },
  {
   "cell_type": "code",
   "execution_count": 15,
   "metadata": {
    "collapsed": false
   },
   "outputs": [],
   "source": [
    "estimator = GridSearchCV(pipe, dict(pca__n_components = n_comp), n_jobs=-1)"
   ]
  },
  {
   "cell_type": "code",
   "execution_count": 16,
   "metadata": {
    "collapsed": false
   },
   "outputs": [],
   "source": [
    "result = estimator.fit(X,y)"
   ]
  },
  {
   "cell_type": "code",
   "execution_count": 17,
   "metadata": {
    "collapsed": false
   },
   "outputs": [
    {
     "data": {
      "text/plain": [
       "Pipeline(steps=[('scaler', StandardScaler(copy=True, with_mean=True, with_std=True)), ('pca', PCA(copy=True, iterated_power='auto', n_components=10, random_state=None,\n",
       "  svd_solver='auto', tol=0.0, whiten=True)), ('rf', RandomForestRegressor(bootstrap=True, criterion='mse', max_depth=None,\n",
       "           max_fea...imators=10, n_jobs=-1, oob_score=False, random_state=None,\n",
       "           verbose=0, warm_start=False))])"
      ]
     },
     "execution_count": 17,
     "metadata": {},
     "output_type": "execute_result"
    }
   ],
   "source": [
    "result.best_estimator_"
   ]
  },
  {
   "cell_type": "code",
   "execution_count": 18,
   "metadata": {
    "collapsed": false
   },
   "outputs": [
    {
     "data": {
      "text/plain": [
       "-0.35886390948091873"
      ]
     },
     "execution_count": 18,
     "metadata": {},
     "output_type": "execute_result"
    }
   ],
   "source": [
    "result.best_score_"
   ]
  },
  {
   "cell_type": "markdown",
   "metadata": {},
   "source": [
    "Fit and visualise 'best' model"
   ]
  },
  {
   "cell_type": "code",
   "execution_count": 19,
   "metadata": {
    "collapsed": true
   },
   "outputs": [],
   "source": [
    "rf1 = RandomForestRegressor(n_jobs=-1)\n",
    "rf2 = RandomForestRegressor(n_jobs=-1)\n",
    "\n",
    "pca = decomposition.PCA(whiten=True, n_components=15)\n",
    "\n",
    "scl1 = StandardScaler()\n",
    "scl2 = StandardScaler()\n",
    "\n",
    "\n",
    "pipe1 = Pipeline([('scaler', scl1), ('pca', pca), ('rf', rf1)])\n",
    "pipe2 = Pipeline([('scaler', scl2), ('rf', rf2)])"
   ]
  },
  {
   "cell_type": "code",
   "execution_count": 20,
   "metadata": {
    "collapsed": true
   },
   "outputs": [],
   "source": [
    "est_model = pipe1.fit(X,y)"
   ]
  },
  {
   "cell_type": "code",
   "execution_count": 21,
   "metadata": {
    "collapsed": true
   },
   "outputs": [],
   "source": [
    "predictions = pipe1.predict(X)"
   ]
  },
  {
   "cell_type": "code",
   "execution_count": 22,
   "metadata": {
    "collapsed": false
   },
   "outputs": [
    {
     "data": {
      "text/plain": [
       "[<matplotlib.lines.Line2D at 0x7fa73053f3d0>,\n",
       " <matplotlib.lines.Line2D at 0x7fa73082c250>]"
      ]
     },
     "execution_count": 22,
     "metadata": {},
     "output_type": "execute_result"
    },
    {
     "data": {
      "image/png": "[encoded data removed]",
      "text/plain": [
       "<matplotlib.figure.Figure at 0x7fa730802c90>"
      ]
     },
     "metadata": {},
     "output_type": "display_data"
    }
   ],
   "source": [
    "plt.plot(y.values, 'b-', predictions, 'r--')"
   ]
  },
  {
   "cell_type": "markdown",
   "metadata": {},
   "source": [
    "Plot prediction error outside training set:"
   ]
  },
  {
   "cell_type": "code",
   "execution_count": 23,
   "metadata": {
    "collapsed": false
   },
   "outputs": [],
   "source": [
    "X_train = X.iloc[:30,:]\n",
    "y_train = y.iloc[:30]\n",
    "\n",
    "X_test = X.iloc[30:,:]\n",
    "y_test = y.iloc[30:]"
   ]
  },
  {
   "cell_type": "code",
   "execution_count": 24,
   "metadata": {
    "collapsed": true
   },
   "outputs": [],
   "source": [
    "#est_model1 = pipe1.fit(X_train, y_train)\n",
    "est_model2 = pipe2.fit(X_train, y_train)"
   ]
  },
  {
   "cell_type": "code",
   "execution_count": 25,
   "metadata": {
    "collapsed": false
   },
   "outputs": [],
   "source": [
    "#predictions1 = est_model1.predict(X_test)\n",
    "predictions2 = est_model2.predict(X_test)"
   ]
  },
  {
   "cell_type": "code",
   "execution_count": 26,
   "metadata": {
    "collapsed": false
   },
   "outputs": [
    {
     "data": {
      "text/plain": [
       "[<matplotlib.lines.Line2D at 0x7fa730432710>,\n",
       " <matplotlib.lines.Line2D at 0x7fa730812710>]"
      ]
     },
     "execution_count": 26,
     "metadata": {},
     "output_type": "execute_result"
    },
    {
     "data": {
      "image/png": "[encoded data removed]",
      "text/plain": [
       "<matplotlib.figure.Figure at 0x7fa73082c310>"
      ]
     },
     "metadata": {},
     "output_type": "display_data"
    }
   ],
   "source": [
    "plt.plot(y_test.values, 'b-', predictions2, 'r--')"
   ]
  },
  {
   "cell_type": "markdown",
   "metadata": {},
   "source": [
    "Select most important features:"
   ]
  },
  {
   "cell_type": "code",
   "execution_count": 27,
   "metadata": {
    "collapsed": false
   },
   "outputs": [],
   "source": [
    "FI = pd.DataFrame(dict(cols=X.columns, importance=est_model2.named_steps['rf'].feature_importances_))"
   ]
  },
  {
   "cell_type": "code",
   "execution_count": 28,
   "metadata": {
    "collapsed": false
   },
   "outputs": [
    {
     "data": {
      "text/html": [
       "<div>\n",
       "<table border=\"1\" class=\"dataframe\">\n",
       "  <thead>\n",
       "    <tr style=\"text-align: right;\">\n",
       "      <th></th>\n",
       "      <th>cols</th>\n",
       "      <th>importance</th>\n",
       "    </tr>\n",
       "  </thead>\n",
       "  <tbody>\n",
       "    <tr>\n",
       "      <th>6</th>\n",
       "      <td>balance_trade</td>\n",
       "      <td>0.226182</td>\n",
       "    </tr>\n",
       "    <tr>\n",
       "      <th>18</th>\n",
       "      <td>micex_rgbi_tr</td>\n",
       "      <td>0.144730</td>\n",
       "    </tr>\n",
       "    <tr>\n",
       "      <th>42</th>\n",
       "      <td>unprofitable_enterpr_share</td>\n",
       "      <td>0.061531</td>\n",
       "    </tr>\n",
       "    <tr>\n",
       "      <th>4</th>\n",
       "      <td>ppi</td>\n",
       "      <td>0.057664</td>\n",
       "    </tr>\n",
       "    <tr>\n",
       "      <th>75</th>\n",
       "      <td>rent_price_1room_eco</td>\n",
       "      <td>0.056211</td>\n",
       "    </tr>\n",
       "    <tr>\n",
       "      <th>48</th>\n",
       "      <td>construction_value</td>\n",
       "      <td>0.053917</td>\n",
       "    </tr>\n",
       "    <tr>\n",
       "      <th>24</th>\n",
       "      <td>mortgage_growth</td>\n",
       "      <td>0.051132</td>\n",
       "    </tr>\n",
       "    <tr>\n",
       "      <th>70</th>\n",
       "      <td>rent_price_3room_bus</td>\n",
       "      <td>0.049746</td>\n",
       "    </tr>\n",
       "    <tr>\n",
       "      <th>61</th>\n",
       "      <td>hot_water_share</td>\n",
       "      <td>0.044073</td>\n",
       "    </tr>\n",
       "    <tr>\n",
       "      <th>72</th>\n",
       "      <td>rent_price_1room_bus</td>\n",
       "      <td>0.042834</td>\n",
       "    </tr>\n",
       "    <tr>\n",
       "      <th>74</th>\n",
       "      <td>rent_price_2room_eco</td>\n",
       "      <td>0.038682</td>\n",
       "    </tr>\n",
       "    <tr>\n",
       "      <th>21</th>\n",
       "      <td>deposits_growth</td>\n",
       "      <td>0.025613</td>\n",
       "    </tr>\n",
       "    <tr>\n",
       "      <th>1</th>\n",
       "      <td>gdp_quart</td>\n",
       "      <td>0.018802</td>\n",
       "    </tr>\n",
       "    <tr>\n",
       "      <th>20</th>\n",
       "      <td>deposits_value</td>\n",
       "      <td>0.018239</td>\n",
       "    </tr>\n",
       "    <tr>\n",
       "      <th>28</th>\n",
       "      <td>income_per_cap</td>\n",
       "      <td>0.013466</td>\n",
       "    </tr>\n",
       "    <tr>\n",
       "      <th>23</th>\n",
       "      <td>mortgage_value</td>\n",
       "      <td>0.010495</td>\n",
       "    </tr>\n",
       "    <tr>\n",
       "      <th>8</th>\n",
       "      <td>usdrub</td>\n",
       "      <td>0.009977</td>\n",
       "    </tr>\n",
       "    <tr>\n",
       "      <th>25</th>\n",
       "      <td>mortgage_rate</td>\n",
       "      <td>0.009449</td>\n",
       "    </tr>\n",
       "    <tr>\n",
       "      <th>71</th>\n",
       "      <td>rent_price_2room_bus</td>\n",
       "      <td>0.008611</td>\n",
       "    </tr>\n",
       "    <tr>\n",
       "      <th>3</th>\n",
       "      <td>cpi</td>\n",
       "      <td>0.008437</td>\n",
       "    </tr>\n",
       "    <tr>\n",
       "      <th>15</th>\n",
       "      <td>average_provision_of_build_contract_moscow</td>\n",
       "      <td>0.006138</td>\n",
       "    </tr>\n",
       "    <tr>\n",
       "      <th>7</th>\n",
       "      <td>balance_trade_growth</td>\n",
       "      <td>0.005848</td>\n",
       "    </tr>\n",
       "    <tr>\n",
       "      <th>36</th>\n",
       "      <td>labor_force</td>\n",
       "      <td>0.005802</td>\n",
       "    </tr>\n",
       "    <tr>\n",
       "      <th>26</th>\n",
       "      <td>grp</td>\n",
       "      <td>0.004585</td>\n",
       "    </tr>\n",
       "    <tr>\n",
       "      <th>10</th>\n",
       "      <td>brent</td>\n",
       "      <td>0.003849</td>\n",
       "    </tr>\n",
       "    <tr>\n",
       "      <th>16</th>\n",
       "      <td>rts</td>\n",
       "      <td>0.003326</td>\n",
       "    </tr>\n",
       "    <tr>\n",
       "      <th>73</th>\n",
       "      <td>rent_price_3room_eco</td>\n",
       "      <td>0.002886</td>\n",
       "    </tr>\n",
       "    <tr>\n",
       "      <th>17</th>\n",
       "      <td>micex</td>\n",
       "      <td>0.002814</td>\n",
       "    </tr>\n",
       "    <tr>\n",
       "      <th>11</th>\n",
       "      <td>net_capital_export</td>\n",
       "      <td>0.002205</td>\n",
       "    </tr>\n",
       "    <tr>\n",
       "      <th>46</th>\n",
       "      <td>marriages_per_1000_cap</td>\n",
       "      <td>0.001627</td>\n",
       "    </tr>\n",
       "    <tr>\n",
       "      <th>38</th>\n",
       "      <td>employment</td>\n",
       "      <td>0.001611</td>\n",
       "    </tr>\n",
       "    <tr>\n",
       "      <th>67</th>\n",
       "      <td>perinatal_mort_per_1000_cap</td>\n",
       "      <td>0.001453</td>\n",
       "    </tr>\n",
       "    <tr>\n",
       "      <th>0</th>\n",
       "      <td>oil_urals</td>\n",
       "      <td>0.001440</td>\n",
       "    </tr>\n",
       "    <tr>\n",
       "      <th>59</th>\n",
       "      <td>sewerage_share</td>\n",
       "      <td>0.001218</td>\n",
       "    </tr>\n",
       "    <tr>\n",
       "      <th>94</th>\n",
       "      <td>apartment_build</td>\n",
       "      <td>0.001163</td>\n",
       "    </tr>\n",
       "    <tr>\n",
       "      <th>80</th>\n",
       "      <td>provision_nurse</td>\n",
       "      <td>0.000843</td>\n",
       "    </tr>\n",
       "    <tr>\n",
       "      <th>32</th>\n",
       "      <td>fixed_basket</td>\n",
       "      <td>0.000618</td>\n",
       "    </tr>\n",
       "    <tr>\n",
       "      <th>69</th>\n",
       "      <td>rent_price_4+room_bus</td>\n",
       "      <td>0.000616</td>\n",
       "    </tr>\n",
       "    <tr>\n",
       "      <th>19</th>\n",
       "      <td>micex_cbi_tr</td>\n",
       "      <td>0.000509</td>\n",
       "    </tr>\n",
       "    <tr>\n",
       "      <th>39</th>\n",
       "      <td>invest_fixed_capital_per_cap</td>\n",
       "      <td>0.000468</td>\n",
       "    </tr>\n",
       "    <tr>\n",
       "      <th>9</th>\n",
       "      <td>eurrub</td>\n",
       "      <td>0.000384</td>\n",
       "    </tr>\n",
       "    <tr>\n",
       "      <th>22</th>\n",
       "      <td>deposits_rate</td>\n",
       "      <td>0.000357</td>\n",
       "    </tr>\n",
       "    <tr>\n",
       "      <th>49</th>\n",
       "      <td>invest_fixed_assets_phys</td>\n",
       "      <td>0.000301</td>\n",
       "    </tr>\n",
       "    <tr>\n",
       "      <th>2</th>\n",
       "      <td>gdp_quart_growth</td>\n",
       "      <td>0.000068</td>\n",
       "    </tr>\n",
       "    <tr>\n",
       "      <th>14</th>\n",
       "      <td>average_provision_of_build_contract</td>\n",
       "      <td>0.000061</td>\n",
       "    </tr>\n",
       "    <tr>\n",
       "      <th>89</th>\n",
       "      <td>seats_theather_rfmin_per_100000_cap</td>\n",
       "      <td>0.000009</td>\n",
       "    </tr>\n",
       "    <tr>\n",
       "      <th>81</th>\n",
       "      <td>load_on_doctors</td>\n",
       "      <td>0.000009</td>\n",
       "    </tr>\n",
       "    <tr>\n",
       "      <th>76</th>\n",
       "      <td>load_of_teachers_preschool_per_teacher</td>\n",
       "      <td>0.000000</td>\n",
       "    </tr>\n",
       "    <tr>\n",
       "      <th>33</th>\n",
       "      <td>retail_trade_turnover</td>\n",
       "      <td>0.000000</td>\n",
       "    </tr>\n",
       "    <tr>\n",
       "      <th>5</th>\n",
       "      <td>gdp_deflator</td>\n",
       "      <td>0.000000</td>\n",
       "    </tr>\n",
       "    <tr>\n",
       "      <th>78</th>\n",
       "      <td>students_state_oneshift</td>\n",
       "      <td>0.000000</td>\n",
       "    </tr>\n",
       "    <tr>\n",
       "      <th>12</th>\n",
       "      <td>gdp_annual</td>\n",
       "      <td>0.000000</td>\n",
       "    </tr>\n",
       "    <tr>\n",
       "      <th>13</th>\n",
       "      <td>gdp_annual_growth</td>\n",
       "      <td>0.000000</td>\n",
       "    </tr>\n",
       "    <tr>\n",
       "      <th>77</th>\n",
       "      <td>load_of_teachers_school_per_teacher</td>\n",
       "      <td>0.000000</td>\n",
       "    </tr>\n",
       "    <tr>\n",
       "      <th>82</th>\n",
       "      <td>power_clinics</td>\n",
       "      <td>0.000000</td>\n",
       "    </tr>\n",
       "    <tr>\n",
       "      <th>79</th>\n",
       "      <td>provision_doctors</td>\n",
       "      <td>0.000000</td>\n",
       "    </tr>\n",
       "    <tr>\n",
       "      <th>83</th>\n",
       "      <td>hospital_beds_available_per_cap</td>\n",
       "      <td>0.000000</td>\n",
       "    </tr>\n",
       "    <tr>\n",
       "      <th>84</th>\n",
       "      <td>hospital_bed_occupancy_per_year</td>\n",
       "      <td>0.000000</td>\n",
       "    </tr>\n",
       "    <tr>\n",
       "      <th>85</th>\n",
       "      <td>provision_retail_space_sqm</td>\n",
       "      <td>0.000000</td>\n",
       "    </tr>\n",
       "    <tr>\n",
       "      <th>86</th>\n",
       "      <td>provision_retail_space_modern_sqm</td>\n",
       "      <td>0.000000</td>\n",
       "    </tr>\n",
       "    <tr>\n",
       "      <th>87</th>\n",
       "      <td>turnover_catering_per_cap</td>\n",
       "      <td>0.000000</td>\n",
       "    </tr>\n",
       "    <tr>\n",
       "      <th>88</th>\n",
       "      <td>theaters_viewers_per_1000_cap</td>\n",
       "      <td>0.000000</td>\n",
       "    </tr>\n",
       "    <tr>\n",
       "      <th>90</th>\n",
       "      <td>museum_visitis_per_100_cap</td>\n",
       "      <td>0.000000</td>\n",
       "    </tr>\n",
       "    <tr>\n",
       "      <th>91</th>\n",
       "      <td>bandwidth_sports</td>\n",
       "      <td>0.000000</td>\n",
       "    </tr>\n",
       "    <tr>\n",
       "      <th>92</th>\n",
       "      <td>population_reg_sports_share</td>\n",
       "      <td>0.000000</td>\n",
       "    </tr>\n",
       "    <tr>\n",
       "      <th>93</th>\n",
       "      <td>students_reg_sports_share</td>\n",
       "      <td>0.000000</td>\n",
       "    </tr>\n",
       "    <tr>\n",
       "      <th>68</th>\n",
       "      <td>incidence_population</td>\n",
       "      <td>0.000000</td>\n",
       "    </tr>\n",
       "    <tr>\n",
       "      <th>64</th>\n",
       "      <td>old_house_share</td>\n",
       "      <td>0.000000</td>\n",
       "    </tr>\n",
       "    <tr>\n",
       "      <th>66</th>\n",
       "      <td>infant_mortarity_per_1000_cap</td>\n",
       "      <td>0.000000</td>\n",
       "    </tr>\n",
       "    <tr>\n",
       "      <th>65</th>\n",
       "      <td>average_life_exp</td>\n",
       "      <td>0.000000</td>\n",
       "    </tr>\n",
       "    <tr>\n",
       "      <th>35</th>\n",
       "      <td>retail_trade_turnover_growth</td>\n",
       "      <td>0.000000</td>\n",
       "    </tr>\n",
       "    <tr>\n",
       "      <th>37</th>\n",
       "      <td>unemployment</td>\n",
       "      <td>0.000000</td>\n",
       "    </tr>\n",
       "    <tr>\n",
       "      <th>31</th>\n",
       "      <td>salary_growth</td>\n",
       "      <td>0.000000</td>\n",
       "    </tr>\n",
       "    <tr>\n",
       "      <th>40</th>\n",
       "      <td>invest_fixed_assets</td>\n",
       "      <td>0.000000</td>\n",
       "    </tr>\n",
       "    <tr>\n",
       "      <th>41</th>\n",
       "      <td>profitable_enterpr_share</td>\n",
       "      <td>0.000000</td>\n",
       "    </tr>\n",
       "    <tr>\n",
       "      <th>30</th>\n",
       "      <td>salary</td>\n",
       "      <td>0.000000</td>\n",
       "    </tr>\n",
       "    <tr>\n",
       "      <th>43</th>\n",
       "      <td>share_own_revenues</td>\n",
       "      <td>0.000000</td>\n",
       "    </tr>\n",
       "    <tr>\n",
       "      <th>44</th>\n",
       "      <td>overdue_wages_per_cap</td>\n",
       "      <td>0.000000</td>\n",
       "    </tr>\n",
       "    <tr>\n",
       "      <th>45</th>\n",
       "      <td>fin_res_per_cap</td>\n",
       "      <td>0.000000</td>\n",
       "    </tr>\n",
       "    <tr>\n",
       "      <th>29</th>\n",
       "      <td>real_dispos_income_per_cap_growth</td>\n",
       "      <td>0.000000</td>\n",
       "    </tr>\n",
       "    <tr>\n",
       "      <th>47</th>\n",
       "      <td>divorce_rate</td>\n",
       "      <td>0.000000</td>\n",
       "    </tr>\n",
       "    <tr>\n",
       "      <th>27</th>\n",
       "      <td>grp_growth</td>\n",
       "      <td>0.000000</td>\n",
       "    </tr>\n",
       "    <tr>\n",
       "      <th>50</th>\n",
       "      <td>pop_natural_increase</td>\n",
       "      <td>0.000000</td>\n",
       "    </tr>\n",
       "    <tr>\n",
       "      <th>51</th>\n",
       "      <td>pop_migration</td>\n",
       "      <td>0.000000</td>\n",
       "    </tr>\n",
       "    <tr>\n",
       "      <th>52</th>\n",
       "      <td>pop_total_inc</td>\n",
       "      <td>0.000000</td>\n",
       "    </tr>\n",
       "    <tr>\n",
       "      <th>53</th>\n",
       "      <td>childbirth</td>\n",
       "      <td>0.000000</td>\n",
       "    </tr>\n",
       "    <tr>\n",
       "      <th>54</th>\n",
       "      <td>mortality</td>\n",
       "      <td>0.000000</td>\n",
       "    </tr>\n",
       "    <tr>\n",
       "      <th>55</th>\n",
       "      <td>housing_fund_sqm</td>\n",
       "      <td>0.000000</td>\n",
       "    </tr>\n",
       "    <tr>\n",
       "      <th>56</th>\n",
       "      <td>lodging_sqm_per_cap</td>\n",
       "      <td>0.000000</td>\n",
       "    </tr>\n",
       "    <tr>\n",
       "      <th>57</th>\n",
       "      <td>water_pipes_share</td>\n",
       "      <td>0.000000</td>\n",
       "    </tr>\n",
       "    <tr>\n",
       "      <th>58</th>\n",
       "      <td>baths_share</td>\n",
       "      <td>0.000000</td>\n",
       "    </tr>\n",
       "    <tr>\n",
       "      <th>60</th>\n",
       "      <td>gas_share</td>\n",
       "      <td>0.000000</td>\n",
       "    </tr>\n",
       "    <tr>\n",
       "      <th>62</th>\n",
       "      <td>electric_stove_share</td>\n",
       "      <td>0.000000</td>\n",
       "    </tr>\n",
       "    <tr>\n",
       "      <th>63</th>\n",
       "      <td>heating_share</td>\n",
       "      <td>0.000000</td>\n",
       "    </tr>\n",
       "    <tr>\n",
       "      <th>34</th>\n",
       "      <td>retail_trade_turnover_per_cap</td>\n",
       "      <td>0.000000</td>\n",
       "    </tr>\n",
       "    <tr>\n",
       "      <th>95</th>\n",
       "      <td>apartment_fund_sqm</td>\n",
       "      <td>0.000000</td>\n",
       "    </tr>\n",
       "  </tbody>\n",
       "</table>\n",
       "</div>"
      ],
      "text/plain": [
       "                                          cols  importance\n",
       "6                                balance_trade    0.226182\n",
       "18                               micex_rgbi_tr    0.144730\n",
       "42                  unprofitable_enterpr_share    0.061531\n",
       "4                                          ppi    0.057664\n",
       "75                        rent_price_1room_eco    0.056211\n",
       "48                          construction_value    0.053917\n",
       "24                             mortgage_growth    0.051132\n",
       "70                        rent_price_3room_bus    0.049746\n",
       "61                             hot_water_share    0.044073\n",
       "72                        rent_price_1room_bus    0.042834\n",
       "74                        rent_price_2room_eco    0.038682\n",
       "21                             deposits_growth    0.025613\n",
       "1                                    gdp_quart    0.018802\n",
       "20                              deposits_value    0.018239\n",
       "28                              income_per_cap    0.013466\n",
       "23                              mortgage_value    0.010495\n",
       "8                                       usdrub    0.009977\n",
       "25                               mortgage_rate    0.009449\n",
       "71                        rent_price_2room_bus    0.008611\n",
       "3                                          cpi    0.008437\n",
       "15  average_provision_of_build_contract_moscow    0.006138\n",
       "7                         balance_trade_growth    0.005848\n",
       "36                                 labor_force    0.005802\n",
       "26                                         grp    0.004585\n",
       "10                                       brent    0.003849\n",
       "16                                         rts    0.003326\n",
       "73                        rent_price_3room_eco    0.002886\n",
       "17                                       micex    0.002814\n",
       "11                          net_capital_export    0.002205\n",
       "46                      marriages_per_1000_cap    0.001627\n",
       "38                                  employment    0.001611\n",
       "67                 perinatal_mort_per_1000_cap    0.001453\n",
       "0                                    oil_urals    0.001440\n",
       "59                              sewerage_share    0.001218\n",
       "94                             apartment_build    0.001163\n",
       "80                             provision_nurse    0.000843\n",
       "32                                fixed_basket    0.000618\n",
       "69                       rent_price_4+room_bus    0.000616\n",
       "19                                micex_cbi_tr    0.000509\n",
       "39                invest_fixed_capital_per_cap    0.000468\n",
       "9                                       eurrub    0.000384\n",
       "22                               deposits_rate    0.000357\n",
       "49                    invest_fixed_assets_phys    0.000301\n",
       "2                             gdp_quart_growth    0.000068\n",
       "14         average_provision_of_build_contract    0.000061\n",
       "89         seats_theather_rfmin_per_100000_cap    0.000009\n",
       "81                             load_on_doctors    0.000009\n",
       "76      load_of_teachers_preschool_per_teacher    0.000000\n",
       "33                       retail_trade_turnover    0.000000\n",
       "5                                 gdp_deflator    0.000000\n",
       "78                     students_state_oneshift    0.000000\n",
       "12                                  gdp_annual    0.000000\n",
       "13                           gdp_annual_growth    0.000000\n",
       "77         load_of_teachers_school_per_teacher    0.000000\n",
       "82                               power_clinics    0.000000\n",
       "79                           provision_doctors    0.000000\n",
       "83             hospital_beds_available_per_cap    0.000000\n",
       "84             hospital_bed_occupancy_per_year    0.000000\n",
       "85                  provision_retail_space_sqm    0.000000\n",
       "86           provision_retail_space_modern_sqm    0.000000\n",
       "87                   turnover_catering_per_cap    0.000000\n",
       "88               theaters_viewers_per_1000_cap    0.000000\n",
       "90                  museum_visitis_per_100_cap    0.000000\n",
       "91                            bandwidth_sports    0.000000\n",
       "92                 population_reg_sports_share    0.000000\n",
       "93                   students_reg_sports_share    0.000000\n",
       "68                        incidence_population    0.000000\n",
       "64                             old_house_share    0.000000\n",
       "66               infant_mortarity_per_1000_cap    0.000000\n",
       "65                            average_life_exp    0.000000\n",
       "35                retail_trade_turnover_growth    0.000000\n",
       "37                                unemployment    0.000000\n",
       "31                               salary_growth    0.000000\n",
       "40                         invest_fixed_assets    0.000000\n",
       "41                    profitable_enterpr_share    0.000000\n",
       "30                                      salary    0.000000\n",
       "43                          share_own_revenues    0.000000\n",
       "44                       overdue_wages_per_cap    0.000000\n",
       "45                             fin_res_per_cap    0.000000\n",
       "29           real_dispos_income_per_cap_growth    0.000000\n",
       "47                                divorce_rate    0.000000\n",
       "27                                  grp_growth    0.000000\n",
       "50                        pop_natural_increase    0.000000\n",
       "51                               pop_migration    0.000000\n",
       "52                               pop_total_inc    0.000000\n",
       "53                                  childbirth    0.000000\n",
       "54                                   mortality    0.000000\n",
       "55                            housing_fund_sqm    0.000000\n",
       "56                         lodging_sqm_per_cap    0.000000\n",
       "57                           water_pipes_share    0.000000\n",
       "58                                 baths_share    0.000000\n",
       "60                                   gas_share    0.000000\n",
       "62                        electric_stove_share    0.000000\n",
       "63                               heating_share    0.000000\n",
       "34               retail_trade_turnover_per_cap    0.000000\n",
       "95                          apartment_fund_sqm    0.000000"
      ]
     },
     "execution_count": 28,
     "metadata": {},
     "output_type": "execute_result"
    }
   ],
   "source": [
    "FI.sort_values('importance', ascending=False)"
   ]
  },
  {
   "cell_type": "code",
   "execution_count": 29,
   "metadata": {
    "collapsed": false
   },
   "outputs": [
    {
     "data": {
      "text/plain": [
       "[<matplotlib.lines.Line2D at 0x7fa730388a50>]"
      ]
     },
     "execution_count": 29,
     "metadata": {},
     "output_type": "execute_result"
    },
    {
     "data": {
      "image/png": "[encoded data removed]",
      "text/plain": [
       "<matplotlib.figure.Figure at 0x7fa73041d990>"
      ]
     },
     "metadata": {},
     "output_type": "display_data"
    }
   ],
   "source": [
    "plt.plot(FI.sort_values('importance', ascending=False).importance.iloc[:13].values )"
   ]
  },
  {
   "cell_type": "code",
   "execution_count": 30,
   "metadata": {
    "collapsed": true
   },
   "outputs": [],
   "source": [
    "macro_features = FI.sort_values('importance', ascending=False).cols.iloc[:12].values"
   ]
  },
  {
   "cell_type": "code",
   "execution_count": 31,
   "metadata": {
    "collapsed": false
   },
   "outputs": [
    {
     "data": {
      "text/plain": [
       "array(['balance_trade', 'micex_rgbi_tr', 'unprofitable_enterpr_share',\n",
       "       'ppi', 'rent_price_1room_eco', 'construction_value',\n",
       "       'mortgage_growth', 'rent_price_3room_bus', 'hot_water_share',\n",
       "       'rent_price_1room_bus', 'rent_price_2room_eco', 'deposits_growth'], dtype=object)"
      ]
     },
     "execution_count": 31,
     "metadata": {},
     "output_type": "execute_result"
    }
   ],
   "source": [
    "macro_features"
   ]
  },
  {
   "cell_type": "code",
   "execution_count": 32,
   "metadata": {
    "collapsed": true
   },
   "outputs": [],
   "source": [
    "pd.Series(macro_features).to_csv(datadir + 'macro_features_rf.csv')"
   ]
  }
 ],
 "metadata": {
  "anaconda-cloud": {},
  "kernelspec": {
   "display_name": "Python [conda env:python_cursus]",
   "language": "python",
   "name": "conda-env-python_cursus-py"
  },
  "language_info": {
   "codemirror_mode": {
    "name": "ipython",
    "version": 2
   },
   "file_extension": ".py",
   "mimetype": "text/x-python",
   "name": "python",
   "nbconvert_exporter": "python",
   "pygments_lexer": "ipython2",
   "version": "2.7.13"
  }
 },
 "nbformat": 4,
 "nbformat_minor": 2
}
